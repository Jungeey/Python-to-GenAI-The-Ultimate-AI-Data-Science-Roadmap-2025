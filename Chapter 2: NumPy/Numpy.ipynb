{
  "cells": [
    {
      "cell_type": "markdown",
      "metadata": {},
      "source": [
        "# NumPy for AI/ML & Data Science\n",
        "\n",
        "This notebook covers **essential NumPy concepts** needed for Artificial Intelligence (AI), Machine Learning (ML), and Data Science:\n",
        "- Installation & Import\n",
        "- Array creation & data types\n",
        "- Indexing, slicing, and boolean masking\n",
        "- Shape, dimension, and reshaping\n",
        "- Broadcasting rules\n",
        "- Vectorized arithmetic operations\n",
        "- Aggregate & statistical functions\n",
        "- Random number generation & reproducibility\n",
        "- Stacking, splitting, concatenation\n",
        "- Linear algebra (`dot`, `matmul`, inversion, eigenvalues)\n",
        "- Advanced indexing & fancy indexing\n",
        "- Performance tips & comparison with Python lists\n",
        "\n",
        "At the end, there are **practice problems** and a **capstone exercise** related to real AI/ML preprocessing tasks."
      ]
    },
    {
      "cell_type": "markdown",
      "metadata": {},
      "source": [
        "## 1) Installation & Import\n",
        "Use pip to install NumPy if not already installed."
      ]
    },
    {
      "cell_type": "code",
      "execution_count": 74,
      "metadata": {},
      "outputs": [
        {
          "name": "stdout",
          "output_type": "stream",
          "text": [
            "2.3.2\n"
          ]
        }
      ],
      "source": [
        "\n",
        "# Installation (uncomment if running locally and NumPy is not installed)\n",
        "# !pip install numpy\n",
        "\n",
        "import numpy as np\n",
        "print(np.__version__)\n"
      ]
    },
    {
      "cell_type": "markdown",
      "metadata": {},
      "source": [
        "## 2) Creating Arrays\n",
        "Create arrays from lists, tuples, or using NumPy built-ins."
      ]
    },
    {
      "cell_type": "code",
      "execution_count": 75,
      "metadata": {},
      "outputs": [
        {
          "name": "stdout",
          "output_type": "stream",
          "text": [
            "[1 2 3] int64\n",
            "[[1 2 3]\n",
            " [4 5 6]] 2\n",
            "[1. 2. 3.]\n"
          ]
        }
      ],
      "source": [
        "\n",
        "# 1D array\n",
        "a = np.array([1, 2, 3])\n",
        "# 2D array\n",
        "b = np.array([[1, 2, 3], [4, 5, 6]])\n",
        "# Specifying dtype\n",
        "c = np.array([1, 2, 3], dtype=float)\n",
        "\n",
        "print(a, a.dtype)\n",
        "print(b, b.ndim)\n",
        "print(c)"
      ]
    },
    {
      "cell_type": "markdown",
      "metadata": {},
      "source": [
        "## 3) Array Attributes"
      ]
    },
    {
      "cell_type": "code",
      "execution_count": 76,
      "metadata": {},
      "outputs": [
        {
          "name": "stdout",
          "output_type": "stream",
          "text": [
            "Array contents:\n",
            " [[ 0  1  2  3]\n",
            " [ 4  5  6  7]\n",
            " [ 8  9 10 11]]\n",
            "\n",
            "\n",
            "Shape: (3, 4)\n",
            "Dimensions: 2\n",
            "Data type: int64\n",
            "Size (elements): 12\n",
            "Memory per element (bytes): 8\n"
          ]
        }
      ],
      "source": [
        "\n",
        "arr = np.arange(12).reshape(3,4)\n",
        "print(\"Array contents:\\n\", arr)\n",
        "\n",
        "print(\"\\n\\nShape:\", arr.shape)\n",
        "print(\"Dimensions:\", arr.ndim)\n",
        "print(\"Data type:\", arr.dtype)\n",
        "print(\"Size (elements):\", arr.size)\n",
        "print(\"Memory per element (bytes):\", arr.itemsize)\n"
      ]
    },
    {
      "cell_type": "markdown",
      "metadata": {},
      "source": [
        "## 4) Indexing & Slicing\n",
        "Access individual elements, rows, columns, or subarrays."
      ]
    },
    {
      "cell_type": "code",
      "execution_count": 77,
      "metadata": {},
      "outputs": [
        {
          "name": "stdout",
          "output_type": "stream",
          "text": [
            "Array contents:\n",
            " [[ 1  2  3  4]\n",
            " [ 5  6  7  8]\n",
            " [ 9 10 11 12]]\n",
            "\n",
            "\n",
            "Element [0,2]: 3\n",
            "First row: [1 2 3 4]\n",
            "Last column: [ 4  8 12]\n",
            "Subarray: [[2 3]\n",
            " [6 7]]\n"
          ]
        }
      ],
      "source": [
        "\n",
        "arr = np.arange(1, 13).reshape(3, 4)\n",
        "print(\"Array contents:\\n\", arr)\n",
        "\n",
        "print(\"\\n\\nElement [0,2]:\", arr[0, 2])\n",
        "print(\"First row:\", arr[0, :])\n",
        "print(\"Last column:\", arr[:, -1])\n",
        "print(\"Subarray:\", arr[0:2, 1:3])"
      ]
    },
    {
      "cell_type": "markdown",
      "metadata": {},
      "source": [
        "## 5) Boolean Masking & Filtering\n",
        "Select elements based on conditions (essential for preprocessing)."
      ]
    },
    {
      "cell_type": "code",
      "execution_count": 78,
      "metadata": {},
      "outputs": [
        {
          "name": "stdout",
          "output_type": "stream",
          "text": [
            "Mask: [False False  True  True  True]\n",
            "Filtered: [30 40 50]\n"
          ]
        }
      ],
      "source": [
        "\n",
        "arr = np.array([10, 20, 30, 40, 50])\n",
        "mask = arr > 25\n",
        "print(\"Mask:\", mask)\n",
        "print(\"Filtered:\", arr[mask])"
      ]
    },
    {
      "cell_type": "markdown",
      "metadata": {},
      "source": [
        "## 6) Special Array Creation"
      ]
    },
    {
      "cell_type": "code",
      "execution_count": 79,
      "metadata": {},
      "outputs": [
        {
          "name": "stdout",
          "output_type": "stream",
          "text": [
            "Array of zeros:\n",
            " [[0. 0. 0.]\n",
            " [0. 0. 0.]]\n",
            "\n",
            "Array of ones:\n",
            " [[1. 1. 1.]\n",
            " [1. 1. 1.]]\n",
            "\n",
            "Array filled with 7:\n",
            " [[7 7 7]\n",
            " [7 7 7]]\n",
            "\n",
            "Identity matrix:\n",
            " [[1. 0. 0. 0.]\n",
            " [0. 1. 0. 0.]\n",
            " [0. 0. 1. 0.]\n",
            " [0. 0. 0. 1.]]\n",
            "\n",
            "Array with arange:\n",
            " [0 3 6 9]\n",
            "\n",
            "Array with linspace:\n",
            " [0.   0.25 0.5  0.75 1.  ]\n"
          ]
        }
      ],
      "source": [
        "\n",
        "print(\"Array of zeros:\\n\", np.zeros((2,3)))\n",
        "\n",
        "print(\"\\nArray of ones:\\n\", np.ones((2,3)))\n",
        "\n",
        "print(\"\\nArray filled with 7:\\n\", np.full((2,3), 7))\n",
        "\n",
        "print(\"\\nIdentity matrix:\\n\", np.eye(4))  # identity matrix\n",
        "\n",
        "print(\"\\nArray with arange:\\n\", np.arange(0, 10, 3))\n",
        "\n",
        "print(\"\\nArray with linspace:\\n\", np.linspace(0, 1, 5))\n"
      ]
    },
    {
      "cell_type": "markdown",
      "metadata": {},
      "source": [
        "## 7) Random Numbers & Reproducibility\n",
        "For AI/ML experiments, fix seeds to reproduce results."
      ]
    },
    {
      "cell_type": "code",
      "execution_count": 80,
      "metadata": {},
      "outputs": [
        {
          "name": "stdout",
          "output_type": "stream",
          "text": [
            "Random array (uniform [0,1):\n",
            " [[0.37454012 0.95071431 0.73199394]\n",
            " [0.59865848 0.15601864 0.15599452]]\n",
            "\n",
            "Random array (standard normal):\n",
            " [[ 1.57921282  0.76743473 -0.46947439]\n",
            " [ 0.54256004 -0.46341769 -0.46572975]]\n",
            "\n",
            "Random array (integers):\n",
            " [[6 9 1]\n",
            " [3 7 4]]\n"
          ]
        }
      ],
      "source": [
        "np.random.seed(42)\n",
        "\n",
        "print(\"Random array (uniform [0,1):\\n\", np.random.rand(2,3))\n",
        "\n",
        "print(\"\\nRandom array (standard normal):\\n\", np.random.randn(2,3))\n",
        "\n",
        "print(\"\\nRandom array (integers):\\n\", np.random.randint(1, 10, (2,3)))"
      ]
    },
    {
      "cell_type": "markdown",
      "metadata": {},
      "source": [
        "## 8) Reshaping & Transpose"
      ]
    },
    {
      "cell_type": "code",
      "execution_count": 81,
      "metadata": {},
      "outputs": [
        {
          "name": "stdout",
          "output_type": "stream",
          "text": [
            "[[ 0  1  2  3]\n",
            " [ 4  5  6  7]\n",
            " [ 8  9 10 11]]\n",
            "\n",
            "Transpose:\n",
            " [[ 0  4  8]\n",
            " [ 1  5  9]\n",
            " [ 2  6 10]\n",
            " [ 3  7 11]]\n"
          ]
        }
      ],
      "source": [
        "\n",
        "arr = np.arange(12)\n",
        "reshaped = arr.reshape(3,4)\n",
        "print(reshaped)\n",
        "print(\"\\nTranspose:\\n\", reshaped.T)\n"
      ]
    },
    {
      "cell_type": "markdown",
      "metadata": {},
      "source": [
        "## 9) Broadcasting\n",
        "Different-shaped arrays in operations."
      ]
    },
    {
      "cell_type": "code",
      "execution_count": 82,
      "metadata": {},
      "outputs": [
        {
          "name": "stdout",
          "output_type": "stream",
          "text": [
            "[[2. 3. 4.]\n",
            " [2. 3. 4.]\n",
            " [2. 3. 4.]]\n"
          ]
        }
      ],
      "source": [
        "\n",
        "A = np.ones((3,3))\n",
        "b = np.array([1, 2, 3])\n",
        "\n",
        "print(A + b)  # b is broadcasted across rows\n"
      ]
    },
    {
      "cell_type": "markdown",
      "metadata": {},
      "source": [
        "## 10) Vectorized Arithmetic\n",
        "Fast element-wise operations (no explicit loops)."
      ]
    },
    {
      "cell_type": "code",
      "execution_count": 83,
      "metadata": {},
      "outputs": [
        {
          "name": "stdout",
          "output_type": "stream",
          "text": [
            "[11 12 13 14]\n",
            "[ 1  4  9 16]\n",
            "[1.         1.41421356 1.73205081 2.        ]\n"
          ]
        }
      ],
      "source": [
        "\n",
        "arr = np.array([1,2,3,4])\n",
        "\n",
        "print(arr + 10)\n",
        "\n",
        "print(arr ** 2)\n",
        "\n",
        "print(np.sqrt(arr))"
      ]
    },
    {
      "cell_type": "markdown",
      "metadata": {},
      "source": [
        "## 11) Aggregate & Statistical Functions"
      ]
    },
    {
      "cell_type": "code",
      "execution_count": 84,
      "metadata": {},
      "outputs": [
        {
          "name": "stdout",
          "output_type": "stream",
          "text": [
            "Sum: 21\n",
            "Mean: 3.5\n",
            "Std Dev: 1.707825127659933\n",
            "Column-wise sum: [5 7 9]\n"
          ]
        }
      ],
      "source": [
        "\n",
        "arr = np.array([[1,2,3],[4,5,6]])\n",
        "print(\"Sum:\", arr.sum())\n",
        "print(\"Mean:\", arr.mean())\n",
        "print(\"Std Dev:\", arr.std())\n",
        "print(\"Column-wise sum:\", arr.sum(axis=0))\n"
      ]
    },
    {
      "cell_type": "markdown",
      "metadata": {},
      "source": [
        "## 12) Stacking & Splitting"
      ]
    },
    {
      "cell_type": "code",
      "execution_count": 85,
      "metadata": {},
      "outputs": [
        {
          "name": "stdout",
          "output_type": "stream",
          "text": [
            "Vertical stack:\n",
            " [[1 2]\n",
            " [3 4]\n",
            " [5 6]\n",
            " [7 8]]\n",
            "\n",
            "Horizontal stack:\n",
            " [[1 2 5 6]\n",
            " [3 4 7 8]]\n"
          ]
        }
      ],
      "source": [
        "\n",
        "a = np.array([[1,2],[3,4]])\n",
        "b = np.array([[5,6],[7,8]])\n",
        "print(\"Vertical stack:\\n\", np.vstack((a,b)))\n",
        "print(\"\\nHorizontal stack:\\n\", np.hstack((a,b)))\n"
      ]
    },
    {
      "cell_type": "markdown",
      "metadata": {},
      "source": [
        "## 13) Linear Algebra — Essential for AI/ML"
      ]
    },
    {
      "cell_type": "code",
      "execution_count": 86,
      "metadata": {},
      "outputs": [
        {
          "name": "stdout",
          "output_type": "stream",
          "text": [
            "Matrix-Vector product:\n",
            " [17 39]\n",
            "\n",
            "Inverse:\n",
            " [[-2.   1. ]\n",
            " [ 1.5 -0.5]]\n",
            "\n",
            "Eigenvalues & Eigenvectors:\n",
            " EigResult(eigenvalues=array([-0.37228132,  5.37228132]), eigenvectors=array([[-0.82456484, -0.41597356],\n",
            "       [ 0.56576746, -0.90937671]]))\n",
            "\n",
            "SVD \n",
            " U:\n",
            " [[-0.40455358 -0.9145143 ]\n",
            " [-0.9145143   0.40455358]] \n",
            "S:\n",
            " [5.4649857  0.36596619] \n",
            "Vt:\n",
            " [[-0.57604844 -0.81741556]\n",
            " [ 0.81741556 -0.57604844]]\n"
          ]
        }
      ],
      "source": [
        "\n",
        "from numpy.linalg import inv, eig, svd\n",
        "\n",
        "A = np.array([[1,2],[3,4]])\n",
        "b = np.array([5,6])\n",
        "\n",
        "print(\"Matrix-Vector product:\\n\", np.dot(A,b))\n",
        "\n",
        "print(\"\\nInverse:\\n\", inv(A))\n",
        "\n",
        "print(\"\\nEigenvalues & Eigenvectors:\\n\", eig(A))\n",
        "\n",
        "U, S, Vt = svd(A)\n",
        "print(\"\\nSVD \\n U:\\n\", U, \"\\nS:\\n\", S, \"\\nVt:\\n\", Vt)"
      ]
    },
    {
      "cell_type": "markdown",
      "metadata": {},
      "source": [
        "## 14) Performance vs Python Lists"
      ]
    },
    {
      "cell_type": "code",
      "execution_count": 87,
      "metadata": {},
      "outputs": [
        {
          "name": "stdout",
          "output_type": "stream",
          "text": [
            "List time: 0.3508589267730713\n",
            "NumPy time: 0.13302946090698242\n"
          ]
        }
      ],
      "source": [
        "\n",
        "import time\n",
        "\n",
        "size = 10_000_000\n",
        "lst = list(range(size))\n",
        "arr = np.arange(size)\n",
        "\n",
        "start = time.time()\n",
        "_ = [x*2 for x in lst]\n",
        "print(\"List time:\", time.time()-start)\n",
        "\n",
        "start = time.time()\n",
        "_ = arr * 2\n",
        "print(\"NumPy time:\", time.time()-start)\n"
      ]
    },
    {
      "cell_type": "markdown",
      "metadata": {},
      "source": [
        "\n",
        "## Practice Exercises\n",
        "1. Create a 5x5 NumPy array with random integers between 1 and 100, then:\n",
        "   - Replace all even numbers with 0.\n",
        "   - Extract the middle row.\n",
        "\n",
        "2. Simulate 1000 coin flips using `np.random.choice(['H','T'], size=1000)`, count heads/tails.\n",
        "\n",
        "3. Create two random matrices (5x5) and compute:\n",
        "   - Their dot product.\n",
        "   - Element-wise multiplication.\n",
        "\n",
        "4. Given a NumPy array of shape (10,3) representing (x,y,z) coordinates, normalize each column to mean=0, std=1.\n"
      ]
    },
    {
      "cell_type": "code",
      "execution_count": 88,
      "id": "ee181aa5",
      "metadata": {},
      "outputs": [
        {
          "name": "stdout",
          "output_type": "stream",
          "text": [
            "Original array:\n",
            " [[64  3 51  7 21]\n",
            " [73 39 18  4 89]\n",
            " [60 14  9 90 53]\n",
            " [ 2 84 92 60 71]\n",
            " [44  8 47 35 78]]\n",
            "\n",
            "Array after replacing evens with 0:\n",
            " [[ 0  3 51  7 21]\n",
            " [73 39  0  0 89]\n",
            " [ 0  0  9  0 53]\n",
            " [ 0  0  0  0 71]\n",
            " [ 0  0 47 35  0]]\n",
            "\n",
            "Middle row:\n",
            " [ 0  0  9  0 53]\n"
          ]
        }
      ],
      "source": [
        "arr = np.random.randint(1, 101, (5, 5))\n",
        "print(\"Original array:\\n\", arr)\n",
        "\n",
        "arr[arr % 2 == 0] = 0\n",
        "print(\"\\nArray after replacing evens with 0:\\n\", arr)\n",
        "\n",
        "middle_row = arr[2, :]\n",
        "print(\"\\nMiddle row:\\n\", middle_row)"
      ]
    },
    {
      "cell_type": "code",
      "execution_count": 89,
      "id": "c1c77367",
      "metadata": {},
      "outputs": [
        {
          "name": "stdout",
          "output_type": "stream",
          "text": [
            "Heads: 505, Tails: 495\n"
          ]
        }
      ],
      "source": [
        "flips = np.random.choice(['H','T'], size=1000)\n",
        "heads = np.sum(flips == 'H')\n",
        "tails = np.sum(flips == 'T')\n",
        "print(f\"Heads: {heads}, Tails: {tails}\")"
      ]
    },
    {
      "cell_type": "code",
      "execution_count": 90,
      "id": "119e4013",
      "metadata": {},
      "outputs": [
        {
          "name": "stdout",
          "output_type": "stream",
          "text": [
            "Dot product:\n",
            " [[1.07697369 0.67720426 0.74614338 0.97918341 0.71556699]\n",
            " [1.75465107 1.72178359 1.8451786  1.61944845 1.99873808]\n",
            " [1.27875211 1.08647963 1.15494109 1.14409599 1.41186579]\n",
            " [2.07359648 1.69953434 1.63909681 2.10426184 1.89736553]\n",
            " [1.68937248 1.36117402 1.20861682 1.88170741 1.34404685]]\n",
            "\n",
            "Element-wise product:\n",
            " [[0.54988192 0.0256733  0.12114723 0.02019857 0.14843303]\n",
            " [0.249345   0.57999956 0.24513588 0.37500418 0.8151224 ]\n",
            " [0.06797865 0.05244683 0.02705612 0.29801527 0.14609977]\n",
            " [0.16409829 0.37060577 0.27497364 0.48523002 0.28401486]\n",
            " [0.57334137 0.24341786 0.4441661  0.09990413 0.06338309]]\n"
          ]
        }
      ],
      "source": [
        "A = np.random.rand(5, 5)\n",
        "B = np.random.rand(5, 5)\n",
        "\n",
        "dot_product = np.dot(A, B)\n",
        "print(\"Dot product:\\n\", dot_product)\n",
        "\n",
        "elementwise_product = A * B\n",
        "print(\"\\nElement-wise product:\\n\", elementwise_product)"
      ]
    },
    {
      "cell_type": "code",
      "execution_count": 91,
      "id": "d980cfb4",
      "metadata": {},
      "outputs": [
        {
          "name": "stdout",
          "output_type": "stream",
          "text": [
            "Mean:\n",
            " [0.54171391 0.52720293 0.38777387]\n",
            "\n",
            "Std:\n",
            " [0.3281324  0.24104022 0.26754926]\n",
            "\n",
            "Normalized coordinates:\n",
            " [[-0.39634212  1.44006954  0.47640642]\n",
            " [ 1.31470237  0.31004148 -0.61269018]\n",
            " [ 0.85354793 -0.75555982 -0.15008322]\n",
            " [-1.55397402  0.08924809  0.54812199]\n",
            " [-0.56599842  1.52262696 -0.96814124]\n",
            " [-0.64490551 -0.85305335 -1.10440703]\n",
            " [-0.18458559  0.6662033   0.46302929]\n",
            " [-1.172503   -0.62195831 -1.4396558 ]\n",
            " [ 0.99529093 -1.83656457  0.78304912]\n",
            " [ 1.35476743  0.03894668  2.00437066]]\n"
          ]
        }
      ],
      "source": [
        "coords = np.random.rand(10, 3)\n",
        "\n",
        "coords_mean = coords.mean(axis=0)\n",
        "print(\"Mean:\\n\", coords_mean)\n",
        "\n",
        "coords_std = coords.std(axis=0)\n",
        "print(\"\\nStd:\\n\", coords_std)\n",
        "\n",
        "normalized_coords = (coords - coords_mean) / coords_std\n",
        "print(\"\\nNormalized coordinates:\\n\", normalized_coords)"
      ]
    }
  ],
  "metadata": {
    "authors": [
      {
        "name": "ChatGPT"
      }
    ],
    "kernelspec": {
      "display_name": ".venv (3.12.3)",
      "language": "python",
      "name": "python3"
    },
    "language_info": {
      "codemirror_mode": {
        "name": "ipython",
        "version": 3
      },
      "file_extension": ".py",
      "mimetype": "text/x-python",
      "name": "python",
      "nbconvert_exporter": "python",
      "pygments_lexer": "ipython3",
      "version": "3.12.3"
    },
    "title": "NumPy for AI/ML & Data Science — Theory + Code + Exercises"
  },
  "nbformat": 4,
  "nbformat_minor": 5
}
