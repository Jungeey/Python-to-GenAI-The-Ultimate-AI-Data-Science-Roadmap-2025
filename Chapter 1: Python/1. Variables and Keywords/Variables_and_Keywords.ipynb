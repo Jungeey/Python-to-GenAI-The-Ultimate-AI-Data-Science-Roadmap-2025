{
 "cells": [
  {
   "cell_type": "markdown",
   "id": "43481569",
   "metadata": {},
   "source": [
    "# 🐍 Python Variables and Keywords\n",
    "This notebook is designed for teaching the basics of **variables** and **keywords** in Python.\n",
    "\n",
    "---"
   ]
  },
  {
   "cell_type": "markdown",
   "id": "ac270eb4",
   "metadata": {},
   "source": [
    "## 📘 What is a Variable?\n",
    "A **variable** in Python is a name that refers to a value stored in memory. It allows us to store, retrieve, and manipulate data.\n",
    "\n",
    "Examples:"
   ]
  },
  {
   "cell_type": "code",
   "execution_count": 1,
   "id": "f10330cc",
   "metadata": {},
   "outputs": [
    {
     "name": "stdout",
     "output_type": "stream",
     "text": [
      "x = 10\n",
      "name = Sudip\n",
      "is_active = True\n"
     ]
    }
   ],
   "source": [
    "x = 10\n",
    "name = \"Sudip\"\n",
    "is_active = True\n",
    "\n",
    "print(\"x =\", x)\n",
    "print(\"name =\", name)\n",
    "print(\"is_active =\", is_active)"
   ]
  },
  {
   "cell_type": "markdown",
   "id": "10ce6d05",
   "metadata": {},
   "source": [
    "## 🧠 Variable Naming Rules\n",
    "Variable names must follow these rules:\n",
    "- Can contain letters, numbers, and underscores\n",
    "- Must start with a letter or underscore (not a number)\n",
    "- Cannot use **Python keywords** as variable names\n",
    "\n",
    "Examples:"
   ]
  },
  {
   "cell_type": "code",
   "execution_count": 2,
   "id": "7d7bba21",
   "metadata": {},
   "outputs": [
    {
     "name": "stdout",
     "output_type": "stream",
     "text": [
      "5 hello 10.5\n"
     ]
    }
   ],
   "source": [
    "# ✅ Valid\n",
    "my_var = 5\n",
    "_var123 = \"hello\"\n",
    "value1 = 10.5\n",
    "\n",
    "print(my_var, _var123, value1)"
   ]
  },
  {
   "cell_type": "code",
   "execution_count": 3,
   "id": "87bda8e9",
   "metadata": {},
   "outputs": [],
   "source": [
    "# ❌ Invalid (Uncomment to see errors)\n",
    "# 2ndvalue = 20\n",
    "# my-var = 30\n",
    "# for = \"loop\""
   ]
  },
  {
   "cell_type": "markdown",
   "id": "addb86dd",
   "metadata": {},
   "source": [
    "## 🔠 Case Sensitivity\n",
    "Python is **case-sensitive**, so `Age` and `age` are different variables."
   ]
  },
  {
   "cell_type": "code",
   "execution_count": 4,
   "id": "4e3bb0eb",
   "metadata": {},
   "outputs": [
    {
     "name": "stdout",
     "output_type": "stream",
     "text": [
      "age = 25\n",
      "Age = 30\n"
     ]
    }
   ],
   "source": [
    "age = 25\n",
    "Age = 30\n",
    "\n",
    "print(\"age =\", age)\n",
    "print(\"Age =\", Age)"
   ]
  },
  {
   "cell_type": "markdown",
   "id": "ac679015",
   "metadata": {},
   "source": [
    "## 🔄 Multiple Assignment\n",
    "You can assign values to multiple variables in one line."
   ]
  },
  {
   "cell_type": "code",
   "execution_count": 5,
   "id": "7f78bd41",
   "metadata": {},
   "outputs": [
    {
     "name": "stdout",
     "output_type": "stream",
     "text": [
      "1 2 3\n",
      "Same Same Same\n"
     ]
    }
   ],
   "source": [
    "a, b, c = 1, 2, 3\n",
    "x = y = z = \"Same\"\n",
    "\n",
    "print(a, b, c)\n",
    "print(x, y, z)"
   ]
  },
  {
   "cell_type": "markdown",
   "id": "0b8e66e3",
   "metadata": {},
   "source": [
    "## 📏 Constants\n",
    "Python does not have built-in constants, but by convention we use **uppercase** variable names to indicate they should not change."
   ]
  },
  {
   "cell_type": "code",
   "execution_count": 6,
   "id": "c97f0899",
   "metadata": {},
   "outputs": [
    {
     "name": "stdout",
     "output_type": "stream",
     "text": [
      "PI = 3.14159\n",
      "GRAVITY = 9.8\n"
     ]
    }
   ],
   "source": [
    "PI = 3.14159\n",
    "GRAVITY = 9.8\n",
    "\n",
    "print(\"PI =\", PI)\n",
    "print(\"GRAVITY =\", GRAVITY)"
   ]
  },
  {
   "cell_type": "markdown",
   "id": "05bb66d4",
   "metadata": {},
   "source": [
    "## 🗝️ Python Keywords\n",
    "Keywords are **reserved words** that cannot be used as variable names. Python uses them for its own syntax."
   ]
  },
  {
   "cell_type": "code",
   "execution_count": 7,
   "id": "ddbfaab0",
   "metadata": {},
   "outputs": [
    {
     "name": "stdout",
     "output_type": "stream",
     "text": [
      "Number of Python keywords: 35\n",
      "Keywords in Python:\n",
      " ['False', 'None', 'True', 'and', 'as', 'assert', 'async', 'await', 'break', 'class', 'continue', 'def', 'del', 'elif', 'else', 'except', 'finally', 'for', 'from', 'global', 'if', 'import', 'in', 'is', 'lambda', 'nonlocal', 'not', 'or', 'pass', 'raise', 'return', 'try', 'while', 'with', 'yield']\n"
     ]
    }
   ],
   "source": [
    "import keyword\n",
    "\n",
    "print(\"Number of Python keywords:\", len(keyword.kwlist))\n",
    "print(\"Keywords in Python:\\n\", keyword.kwlist)"
   ]
  },
  {
   "cell_type": "markdown",
   "id": "fef779a6",
   "metadata": {},
   "source": [
    "## 🔍 Check if a Word is a Keyword"
   ]
  },
  {
   "cell_type": "code",
   "execution_count": 8,
   "id": "2cd2d62d",
   "metadata": {},
   "outputs": [
    {
     "name": "stdout",
     "output_type": "stream",
     "text": [
      "Is 'for' a keyword? True\n",
      "Is 'hello' a keyword? False\n"
     ]
    }
   ],
   "source": [
    "print(\"Is 'for' a keyword?\", keyword.iskeyword(\"for\"))\n",
    "print(\"Is 'hello' a keyword?\", keyword.iskeyword(\"hello\"))"
   ]
  },
  {
   "cell_type": "markdown",
   "id": "5ba39128",
   "metadata": {},
   "source": [
    "## ✅ Summary\n",
    "- A variable is a container for data.\n",
    "- Variable names must follow rules.\n",
    "- Python is case-sensitive.\n",
    "- Constants use uppercase by convention.\n",
    "- Keywords are reserved words.\n",
    "- Use the `keyword` module to explore Python keywords."
   ]
  }
 ],
 "metadata": {
  "kernelspec": {
   "display_name": ".venv (3.12.3)",
   "language": "python",
   "name": "python3"
  },
  "language_info": {
   "codemirror_mode": {
    "name": "ipython",
    "version": 3
   },
   "file_extension": ".py",
   "mimetype": "text/x-python",
   "name": "python",
   "nbconvert_exporter": "python",
   "pygments_lexer": "ipython3",
   "version": "3.12.3"
  }
 },
 "nbformat": 4,
 "nbformat_minor": 5
}
