{
 "cells": [
  {
   "cell_type": "markdown",
   "id": "dff8beb8",
   "metadata": {},
   "source": [
    "# Functions and Lambda Functions in Python"
   ]
  },
  {
   "cell_type": "markdown",
   "id": "3fa10743",
   "metadata": {},
   "source": [
    "Functions are reusable blocks of code that perform a specific task. Python provides both **built-in functions** and allows creation of **user-defined functions**.\n",
    "\n",
    "Lambda functions are **anonymous functions** defined with the `lambda` keyword and used for small, simple operations."
   ]
  },
  {
   "cell_type": "markdown",
   "id": "dac03573",
   "metadata": {},
   "source": [
    "## Defining and Calling Functions"
   ]
  },
  {
   "cell_type": "code",
   "execution_count": 1,
   "id": "4d14a029",
   "metadata": {},
   "outputs": [
    {
     "name": "stdout",
     "output_type": "stream",
     "text": [
      "Hello, Alice!\n"
     ]
    }
   ],
   "source": [
    "def greet(name):\n",
    "    return f\"Hello, {name}!\"\n",
    "\n",
    "print(greet(\"Alice\"))"
   ]
  },
  {
   "cell_type": "markdown",
   "id": "c133257e",
   "metadata": {},
   "source": [
    "## Function with Multiple Parameters and Return Value"
   ]
  },
  {
   "cell_type": "code",
   "execution_count": 8,
   "id": "9421c6f2",
   "metadata": {},
   "outputs": [
    {
     "name": "stdout",
     "output_type": "stream",
     "text": [
      "Result: 8\n"
     ]
    }
   ],
   "source": [
    "def add(a, b):\n",
    "    return a + b\n",
    "\n",
    "result = add(5, 3)\n",
    "print(\"Result:\", result)"
   ]
  },
  {
   "cell_type": "markdown",
   "id": "d7cd11fc",
   "metadata": {},
   "source": [
    "## Default and Keyword Arguments"
   ]
  },
  {
   "cell_type": "code",
   "execution_count": 9,
   "id": "e72c5bb9",
   "metadata": {},
   "outputs": [
    {
     "name": "stdout",
     "output_type": "stream",
     "text": [
      "I have a dog named Max.\n",
      "I have a cat named Whiskers.\n"
     ]
    }
   ],
   "source": [
    "def describe_pet(pet_name, animal_type='dog'):\n",
    "    print(f\"I have a {animal_type} named {pet_name}.\")\n",
    "\n",
    "describe_pet('Max')\n",
    "describe_pet('Whiskers','cat')"
   ]
  },
  {
   "cell_type": "markdown",
   "id": "eca019e3",
   "metadata": {},
   "source": [
    "## Variable-length Arguments"
   ]
  },
  {
   "cell_type": "code",
   "execution_count": 10,
   "id": "42ea815c",
   "metadata": {},
   "outputs": [
    {
     "name": "stdout",
     "output_type": "stream",
     "text": [
      "Sum: 10\n",
      "Sum: 15\n"
     ]
    }
   ],
   "source": [
    "def sum_all(*args):\n",
    "    return sum(args)\n",
    "\n",
    "print(\"Sum:\", sum_all(1, 2, 3, 4))\n",
    "print(\"Sum:\", sum_all(1, 2, 3, 4, 5))"
   ]
  },
  {
   "cell_type": "markdown",
   "id": "51561a58",
   "metadata": {},
   "source": [
    "## Lambda Functions"
   ]
  },
  {
   "cell_type": "code",
   "execution_count": 12,
   "id": "a65ae16e",
   "metadata": {},
   "outputs": [
    {
     "name": "stdout",
     "output_type": "stream",
     "text": [
      "Square using lambda: 25\n"
     ]
    }
   ],
   "source": [
    "# Traditional function\n",
    "def square(x):\n",
    "    return x * x\n",
    "\n",
    "# Lambda equivalent\n",
    "lambda_square = lambda x: x * x\n",
    "\n",
    "print(\"Square using lambda:\", lambda_square(5))"
   ]
  },
  {
   "cell_type": "code",
   "execution_count": 22,
   "id": "fc498f76",
   "metadata": {},
   "outputs": [
    {
     "name": "stdout",
     "output_type": "stream",
     "text": [
      "Sum of first 5 numbers is: 15.0 \n"
     ]
    }
   ],
   "source": [
    "num = 5\n",
    "\n",
    "lambda_sum_of_natural_number = lambda num: (num*(num + 1))/2\n",
    "\n",
    "print(f\"Sum of first {num} numbers is: {lambda_sum_of_natural_number(num)} \")"
   ]
  },
  {
   "cell_type": "code",
   "execution_count": 23,
   "id": "0a95834e",
   "metadata": {},
   "outputs": [
    {
     "name": "stdout",
     "output_type": "stream",
     "text": [
      "9\n"
     ]
    }
   ],
   "source": [
    "sum = lambda x,y: x+y\n",
    "\n",
    "print(sum(4,5))"
   ]
  },
  {
   "cell_type": "markdown",
   "id": "ac61d3d4",
   "metadata": {},
   "source": [
    "## Lambda with `map()`, `filter()`, and `reduce()`"
   ]
  },
  {
   "cell_type": "code",
   "execution_count": 13,
   "id": "919588a3",
   "metadata": {},
   "outputs": [
    {
     "name": "stdout",
     "output_type": "stream",
     "text": [
      "Squared: [1, 4, 9, 16, 25]\n",
      "Even numbers: [2, 4]\n",
      "Sum: 15\n"
     ]
    }
   ],
   "source": [
    "from functools import reduce\n",
    "\n",
    "nums = [1, 2, 3, 4, 5]\n",
    "\n",
    "# map: square each number\n",
    "squared = list(map(lambda x: x**2, nums))\n",
    "print(\"Squared:\", squared)\n",
    "\n",
    "# filter: even numbers\n",
    "even = list(filter(lambda x: x % 2 == 0, nums))\n",
    "print(\"Even numbers:\", even)\n",
    "\n",
    "# reduce: sum of all\n",
    "total = reduce(lambda x, y: x + y, nums)\n",
    "print(\"Sum:\", total)"
   ]
  },
  {
   "cell_type": "markdown",
   "id": "f5c64ff1",
   "metadata": {},
   "source": [
    "## 🧠 Practical Task: Student Score Analyzer"
   ]
  },
  {
   "cell_type": "markdown",
   "id": "7b421625",
   "metadata": {},
   "source": [
    "\n",
    "### Task Description:\n",
    "You are creating a function-based system to analyze student scores.\n",
    "\n",
    "**Instructions:**\n",
    "1. Create a function `add_student_score(name, score)` that adds a student's name and score to a global list.\n",
    "\n",
    "2. Create a function `average_score()` that returns the average score of all students.\n",
    "\n",
    "3. Create a function `get_top_students(threshold)` that returns a list of names of students whose scores are greater than or equal to the threshold.\n",
    "\n",
    "4. Use a lambda function with `filter()` to find students who passed (score >= 40).\n",
    "\n",
    "5. Print a summary:\n",
    "    - Total students\n",
    "    - Average score\n",
    "    - Passed students\n"
   ]
  },
  {
   "cell_type": "code",
   "execution_count": 14,
   "id": "db2db4d7",
   "metadata": {},
   "outputs": [
    {
     "name": "stdout",
     "output_type": "stream",
     "text": [
      "Total Students: 5\n",
      "Average Score: 65.6\n",
      "Passed Students: ['Alice', 'Bob', 'Charlie', 'Daisy']\n",
      "Top Performers (>=80): ['Alice', 'Daisy']\n"
     ]
    }
   ],
   "source": [
    "students = []\n",
    "\n",
    "def add_student_score(name, score):\n",
    "    students.append((name, score))\n",
    "\n",
    "def average_score():\n",
    "    return round(sum(score for _, score in students) / len(students), 2)\n",
    "\n",
    "def get_top_students(threshold):\n",
    "    return [name for name, score in students if score >= threshold]\n",
    "\n",
    "# Adding student scores\n",
    "add_student_score(\"Alice\", 85)\n",
    "add_student_score(\"Bob\", 72)\n",
    "add_student_score(\"Charlie\", 40)\n",
    "add_student_score(\"Daisy\", 95)\n",
    "add_student_score(\"Eve\", 36)\n",
    "\n",
    "# Lambda to filter passed students\n",
    "passed = list(filter(lambda student: student[1] >= 40, students))\n",
    "\n",
    "print(\"Total Students:\", len(students))\n",
    "print(\"Average Score:\", average_score())\n",
    "print(\"Passed Students:\", [name for name, _ in passed])\n",
    "print(\"Top Performers (>=80):\", get_top_students(80))"
   ]
  }
 ],
 "metadata": {
  "kernelspec": {
   "display_name": ".venv (3.12.3)",
   "language": "python",
   "name": "python3"
  },
  "language_info": {
   "codemirror_mode": {
    "name": "ipython",
    "version": 3
   },
   "file_extension": ".py",
   "mimetype": "text/x-python",
   "name": "python",
   "nbconvert_exporter": "python",
   "pygments_lexer": "ipython3",
   "version": "3.12.3"
  }
 },
 "nbformat": 4,
 "nbformat_minor": 5
}
