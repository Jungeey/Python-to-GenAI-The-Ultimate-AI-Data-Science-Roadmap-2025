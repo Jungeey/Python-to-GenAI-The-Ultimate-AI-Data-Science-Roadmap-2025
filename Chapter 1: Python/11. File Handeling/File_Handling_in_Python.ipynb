{
 "cells": [
  {
   "cell_type": "markdown",
   "id": "790fb8ac",
   "metadata": {},
   "source": [
    "# File Handling in Python"
   ]
  },
  {
   "cell_type": "markdown",
   "id": "8ee9e7e1",
   "metadata": {},
   "source": [
    "\n",
    "Python provides built-in functions to handle files. File handling is essential for reading, writing, and processing data stored in external files.\n",
    "\n",
    "### File Modes:\n",
    "| Mode | Description |\n",
    "|------|-------------|\n",
    "| `'r'` | Read (default). File must exist. |\n",
    "| `'w'` | Write. Creates new file or truncates existing. |\n",
    "| `'a'` | Append. Creates new file if not exists. |\n",
    "| `'x'` | Create. Fails if file exists. |\n",
    "| `'b'` | Binary mode. Used with other modes. |\n",
    "| `'t'` | Text mode (default). |\n",
    "| `'+'` | Read and write mode. |\n"
   ]
  },
  {
   "cell_type": "markdown",
   "id": "33cf6ca3",
   "metadata": {},
   "source": [
    "## 📘 Opening and Reading a File"
   ]
  },
  {
   "cell_type": "code",
   "execution_count": 28,
   "id": "381ddfa3",
   "metadata": {},
   "outputs": [
    {
     "name": "stdout",
     "output_type": "stream",
     "text": [
      "Hello\n",
      "Welcome to Python File Handling!\n",
      "Hello\n",
      "\n"
     ]
    }
   ],
   "source": [
    "\n",
    "# Create a sample file\n",
    "with open(\"sample.txt\", \"w\") as f:\n",
    "    f.write(\"Hello\\nWelcome to Python File Handling!\")\n",
    "\n",
    "# Read file content\n",
    "with open(\"sample.txt\", \"r\") as f:\n",
    "    content = f.read() # Reads entire file\n",
    "    print(content)\n",
    "\n",
    "with open(\"sample.txt\", \"r\") as f:\n",
    "    content = f.readline() # Reads first line\n",
    "    print(content)\n"
   ]
  },
  {
   "cell_type": "markdown",
   "id": "f71b230d",
   "metadata": {},
   "source": [
    "### Read Line-by-Line"
   ]
  },
  {
   "cell_type": "code",
   "execution_count": 29,
   "id": "fe1f32f5",
   "metadata": {},
   "outputs": [
    {
     "name": "stdout",
     "output_type": "stream",
     "text": [
      "Hello\n",
      "Welcome to Python File Handling!\n"
     ]
    }
   ],
   "source": [
    "\n",
    "with open(\"sample.txt\", \"r\") as f:\n",
    "    for line in f:\n",
    "        print(line.strip())\n"
   ]
  },
  {
   "cell_type": "markdown",
   "id": "1e349084",
   "metadata": {},
   "source": [
    "## ✍️ Writing to a File"
   ]
  },
  {
   "cell_type": "code",
   "execution_count": 30,
   "id": "49b0031a",
   "metadata": {},
   "outputs": [],
   "source": [
    "\n",
    "# Overwrite file content\n",
    "with open(\"sample.txt\", \"w\") as f:\n",
    "    f.write(\"This will overwrite everything.\")\n",
    "\n",
    "# Append new content\n",
    "with open(\"sample.txt\", \"a\") as f:\n",
    "    f.write(\"\\nThis line is appended.\")\n"
   ]
  },
  {
   "cell_type": "markdown",
   "id": "9fb68630",
   "metadata": {},
   "source": [
    "## 🔄 Read and Write Together (`r+`, `w+`, `a+`)"
   ]
  },
  {
   "cell_type": "code",
   "execution_count": null,
   "id": "29f237b2",
   "metadata": {},
   "outputs": [
    {
     "name": "stdout",
     "output_type": "stream",
     "text": [
      "Before write:\n",
      " Overwritten!erwrite everything.\n",
      "This line is appended.\n",
      "erwrite everything.\n",
      "This line is appended.\n"
     ]
    }
   ],
   "source": [
    "\n",
    "with open(\"sample.txt\", \"r+\") as f:\n",
    "    print(\"Before write:\\n\", f.read())\n",
    "    f.seek(0)\n",
    "    f.write(\"Overwritten!\")\n"
   ]
  },
  {
   "cell_type": "markdown",
   "id": "af4ee718",
   "metadata": {},
   "source": [
    "## 📎 Common File Methods"
   ]
  },
  {
   "cell_type": "markdown",
   "id": "50fc7364",
   "metadata": {},
   "source": [
    "\n",
    "- `read()`: Reads entire file\n",
    "- `readline()`: Reads single line\n",
    "- `readlines()`: Returns list of all lines\n",
    "- `write()`: Writes string\n",
    "- `writelines()`: Writes list of strings\n",
    "- `seek(offset)`: Moves file pointer\n",
    "- `tell()`: Returns current pointer position\n",
    "- `close()`: Closes the file\n"
   ]
  },
  {
   "cell_type": "markdown",
   "id": "d7fe8265",
   "metadata": {},
   "source": [
    "## ✅ Best Practice: `with` Statement"
   ]
  },
  {
   "cell_type": "code",
   "execution_count": 33,
   "id": "008ea529",
   "metadata": {},
   "outputs": [
    {
     "name": "stdout",
     "output_type": "stream",
     "text": [
      "Overwritten!erwrite everything.\n",
      "This line is appended.\n"
     ]
    }
   ],
   "source": [
    "\n",
    "# Automatically closes the file\n",
    "with open(\"sample.txt\", \"r\") as f:\n",
    "    print(f.read())"
   ]
  },
  {
   "cell_type": "markdown",
   "id": "09a2113f",
   "metadata": {},
   "source": [
    "## ⚠️ File Handling with Error Management"
   ]
  },
  {
   "cell_type": "code",
   "execution_count": 26,
   "id": "84df5ecf",
   "metadata": {},
   "outputs": [
    {
     "name": "stdout",
     "output_type": "stream",
     "text": [
      "File not found!\n"
     ]
    }
   ],
   "source": [
    "\n",
    "try:\n",
    "    with open(\"missing.txt\", \"r\") as f:\n",
    "        data = f.read()\n",
    "except FileNotFoundError:\n",
    "    print(\"File not found!\")\n"
   ]
  },
  {
   "cell_type": "markdown",
   "id": "9e4bfcbf",
   "metadata": {},
   "source": [
    "## 🧠 Practical Task: Student Report Card Manager"
   ]
  },
  {
   "cell_type": "markdown",
   "id": "35d8ea49",
   "metadata": {},
   "source": [
    "\n",
    "### Task Description:\n",
    "\n",
    "Build a program that allows teachers to store and view student scores in a text file.\n",
    "\n",
    "**Steps:**\n",
    "1. Define a function `add_student(name, score)` that writes name and score to a file.\n",
    "2. Define `display_students()` that reads and prints all students.\n",
    "3. Define `top_students(threshold)` to print only students with scores above threshold.\n",
    "4. Use error handling to manage file reading.\n",
    "\n",
    "**Expected File Format:**\n",
    "```\n",
    "Alice,85\n",
    "Bob,78\n",
    "Charlie,92\n",
    "```\n"
   ]
  },
  {
   "cell_type": "code",
   "execution_count": 27,
   "id": "c3a8bef5",
   "metadata": {},
   "outputs": [
    {
     "name": "stdout",
     "output_type": "stream",
     "text": [
      "Name: Alice, Score: 85\n",
      "Name: Bob, Score: 78\n",
      "Name: Charlie, Score: 92\n",
      "Name: Alice, Score: 85\n",
      "Name: Bob, Score: 78\n",
      "Name: Charlie, Score: 92\n",
      "Name: Alice, Score: 85\n",
      "Name: Bob, Score: 78\n",
      "Name: Charlie, Score: 92\n",
      "Top Students (>80):\n",
      "Alice - 85\n",
      "Charlie - 92\n",
      "Alice - 85\n",
      "Charlie - 92\n",
      "Alice - 85\n",
      "Charlie - 92\n"
     ]
    }
   ],
   "source": [
    "\n",
    "def add_student(name, score, filename='students.txt'):\n",
    "    with open(filename, 'a') as f:\n",
    "        f.write(f\"{name},{score}\\n\")\n",
    "\n",
    "def display_students(filename='students.txt'):\n",
    "    try:\n",
    "        with open(filename, 'r') as f:\n",
    "            for line in f:\n",
    "                name, score = line.strip().split(',')\n",
    "                print(f\"Name: {name}, Score: {score}\")\n",
    "    except FileNotFoundError:\n",
    "        print(\"No student data available.\")\n",
    "\n",
    "def top_students(threshold=90, filename='students.txt'):\n",
    "    try:\n",
    "        with open(filename, 'r') as f:\n",
    "            print(f\"Top Students (>{threshold}):\")\n",
    "            for line in f:\n",
    "                name, score = line.strip().split(',')\n",
    "                if int(score) > threshold:\n",
    "                    print(f\"{name} - {score}\")\n",
    "    except FileNotFoundError:\n",
    "        print(\"Student file not found!\")\n",
    "\n",
    "# Add some students\n",
    "add_student(\"Alice\", 85)\n",
    "add_student(\"Bob\", 78)\n",
    "add_student(\"Charlie\", 92)\n",
    "\n",
    "display_students()\n",
    "top_students(80)\n"
   ]
  },
  {
   "cell_type": "markdown",
   "id": "3266a993",
   "metadata": {},
   "source": [
    "### ✅ Summary"
   ]
  },
  {
   "cell_type": "markdown",
   "id": "445eb42a",
   "metadata": {},
   "source": [
    "\n",
    "- Always use `with open()` to auto-close files.\n",
    "- Use different file modes (`r`, `w`, `a`, `x`, `r+`, etc.) based on needs.\n",
    "- Handle exceptions with `try-except` to avoid crashes.\n",
    "- File handling is essential for data persistence in Python programs.\n"
   ]
  }
 ],
 "metadata": {
  "kernelspec": {
   "display_name": ".venv (3.12.3)",
   "language": "python",
   "name": "python3"
  },
  "language_info": {
   "codemirror_mode": {
    "name": "ipython",
    "version": 3
   },
   "file_extension": ".py",
   "mimetype": "text/x-python",
   "name": "python",
   "nbconvert_exporter": "python",
   "pygments_lexer": "ipython3",
   "version": "3.12.3"
  }
 },
 "nbformat": 4,
 "nbformat_minor": 5
}
