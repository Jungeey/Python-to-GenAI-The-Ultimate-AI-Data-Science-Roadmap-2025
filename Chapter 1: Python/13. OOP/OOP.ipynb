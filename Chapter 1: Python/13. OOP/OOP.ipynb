{
  "cells": [
    {
      "cell_type": "markdown",
      "metadata": {},
      "source": [
        "# Object-Oriented Programming (OOP) in Python\n",
        "*Auto-generated on 2025-08-12 12:19:45 UTC*\n",
        "\n",
        "This notebook gives you short, necessary theory with clear code examples for:\n",
        "- Classes & Objects\n",
        "- Constructors (`__init__`) — default & parameterized\n",
        "- Instance vs Class Variables\n",
        "- Methods, `self`\n",
        "- Encapsulation (`@property`, name-mangling)\n",
        "- Inheritance, Method Overriding\n",
        "- Polymorphism (duck typing & ABCs)\n",
        "- Static & Class Methods\n",
        "- Dunder methods (`__repr__`, `__eq__`)\n",
        "- Composition vs Inheritance\n",
        "\n",
        "At the end, you get a **capstone assignment** that covers nearly all the concepts."
      ]
    },
    {
      "cell_type": "markdown",
      "metadata": {},
      "source": [
        "## 1) Classes & Objects\n",
        "A **class** is a blueprint; an **object** is an instance of that blueprint."
      ]
    },
    {
      "cell_type": "code",
      "execution_count": 1,
      "metadata": {},
      "outputs": [
        {
          "name": "stdout",
          "output_type": "stream",
          "text": [
            "10 5\n"
          ]
        }
      ],
      "source": [
        "\n",
        "class Rectangle:\n",
        "    # Default constructor: fixed values (for demo)\n",
        "    def __init__(self):\n",
        "        self.length = 10   # instance variable\n",
        "        self.breadth = 5   # instance variable\n",
        "\n",
        "rect = Rectangle()\n",
        "print(rect.length, rect.breadth)  # 10 5\n"
      ]
    },
    {
      "cell_type": "markdown",
      "metadata": {},
      "source": [
        "## 2) Parameterized Constructor\n",
        "Pass values at creation time instead of hard-coding."
      ]
    },
    {
      "cell_type": "code",
      "execution_count": 2,
      "metadata": {},
      "outputs": [
        {
          "name": "stdout",
          "output_type": "stream",
          "text": [
            "40 20\n"
          ]
        }
      ],
      "source": [
        "\n",
        "class Rectangle:\n",
        "    def __init__(self, length, breadth):\n",
        "        self.length = length\n",
        "        self.breadth = breadth\n",
        "\n",
        "rect = Rectangle(40, 20)\n",
        "print(rect.length, rect.breadth)  # 40 20\n"
      ]
    },
    {
      "cell_type": "markdown",
      "metadata": {},
      "source": [
        "## 3) Instance vs Class Variables\n",
        "- **Instance variables** belong to each object (`self.x`).\n",
        "- **Class variables** are shared across all instances (defined directly inside the class body)."
      ]
    },
    {
      "cell_type": "code",
      "execution_count": 3,
      "metadata": {},
      "outputs": [
        {
          "name": "stdout",
          "output_type": "stream",
          "text": [
            "c1: 5 3.14159\n",
            "c2: 7 3.14159\n",
            "After change -> c1.pi: 3.1436 | c2.pi: 3.1436\n"
          ]
        }
      ],
      "source": [
        "\n",
        "class Circle:\n",
        "    pi = 3.14159          # class variable (shared)\n",
        "    def __init__(self, radius):\n",
        "        self.radius = radius   # instance variable (per-object)\n",
        "\n",
        "c1 = Circle(5)\n",
        "c2 = Circle(7)\n",
        "\n",
        "print(\"c1:\", c1.radius, c1.pi)\n",
        "print(\"c2:\", c2.radius, c2.pi)\n",
        "\n",
        "# Changing the class variable affects all instances (unless an instance overrides it):\n",
        "Circle.pi = 3.1436\n",
        "print(\"After change -> c1.pi:\", c1.pi, \"| c2.pi:\", c2.pi)\n"
      ]
    },
    {
      "cell_type": "markdown",
      "metadata": {},
      "source": [
        "## 4) Methods and `self`\n",
        "`self` is the instance on which the method is called; it holds that object's state."
      ]
    },
    {
      "cell_type": "code",
      "execution_count": 4,
      "metadata": {},
      "outputs": [
        {
          "name": "stdout",
          "output_type": "stream",
          "text": [
            "Area: 50\n"
          ]
        }
      ],
      "source": [
        "\n",
        "class Rectangle:\n",
        "    def __init__(self, length, breadth):\n",
        "        self.length = length\n",
        "        self.breadth = breadth\n",
        "\n",
        "    def area(self):\n",
        "        return self.length * self.breadth\n",
        "\n",
        "r = Rectangle(10, 5)\n",
        "print(\"Area:\", r.area())\n"
      ]
    },
    {
      "cell_type": "markdown",
      "metadata": {},
      "source": [
        "## 5) Encapsulation\n",
        "Use properties to control access; use name-mangling (`__secret`) to discourage external access."
      ]
    },
    {
      "cell_type": "code",
      "execution_count": 5,
      "metadata": {},
      "outputs": [
        {
          "name": "stdout",
          "output_type": "stream",
          "text": [
            "Ria balance: 120.0\n"
          ]
        }
      ],
      "source": [
        "\n",
        "class BankAccount:\n",
        "    def __init__(self, owner, balance=0.0):\n",
        "        self.owner = owner\n",
        "        self.__balance = float(balance)  # name-mangled attribute\n",
        "\n",
        "    @property\n",
        "    def balance(self):\n",
        "        # Read-only property\n",
        "        return self.__balance\n",
        "\n",
        "    def deposit(self, amount):\n",
        "        if amount <= 0:\n",
        "            raise ValueError(\"Deposit must be positive\")\n",
        "        self.__balance += amount\n",
        "\n",
        "    def withdraw(self, amount):\n",
        "        if amount <= 0:\n",
        "            raise ValueError(\"Withdrawal must be positive\")\n",
        "        if amount > self.__balance:\n",
        "            raise ValueError(\"Insufficient funds\")\n",
        "        self.__balance -= amount\n",
        "\n",
        "acct = BankAccount(\"Ria\", 100)\n",
        "acct.deposit(50)\n",
        "acct.withdraw(30)\n",
        "print(acct.owner, \"balance:\", acct.balance)\n",
        "\n",
        "# Direct access discouraged; name-mangled attribute exists but should not be touched:\n",
        "# print(acct.__balance)  # AttributeError\n",
        "# print(acct._BankAccount__balance)  # Works, but don't do this in real code.\n"
      ]
    },
    {
      "cell_type": "markdown",
      "metadata": {},
      "source": [
        "## 6) Inheritance & Method Overriding\n",
        "A child class reuses and customizes behavior from a parent class."
      ]
    },
    {
      "cell_type": "code",
      "execution_count": 6,
      "metadata": {},
      "outputs": [
        {
          "name": "stdout",
          "output_type": "stream",
          "text": [
            "Hello from Employee\n",
            "Hello from Developer\n"
          ]
        }
      ],
      "source": [
        "\n",
        "class Employee:\n",
        "    def greet(self):\n",
        "        print(\"Hello from Employee\")\n",
        "\n",
        "class Developer(Employee):\n",
        "    def greet(self):  # override\n",
        "        print(\"Hello from Developer\")\n",
        "\n",
        "emp = Employee()\n",
        "dev = Developer()\n",
        "emp.greet()  # Employee version\n",
        "dev.greet()  # Overridden version\n"
      ]
    },
    {
      "cell_type": "markdown",
      "metadata": {},
      "source": [
        "## 7) Polymorphism (Duck Typing)\n",
        "If two classes implement the same method, you can use them interchangeably."
      ]
    },
    {
      "cell_type": "code",
      "execution_count": 7,
      "metadata": {},
      "outputs": [
        {
          "name": "stdout",
          "output_type": "stream",
          "text": [
            "It says: woof\n",
            "It says: beep-woof\n"
          ]
        }
      ],
      "source": [
        "\n",
        "class Dog:\n",
        "    def speak(self):\n",
        "        return \"woof\"\n",
        "\n",
        "class RobotDog:\n",
        "    def speak(self):\n",
        "        return \"beep-woof\"\n",
        "\n",
        "def announce(animal):\n",
        "    # Polymorphic: works with any object that has .speak()\n",
        "    print(\"It says:\", animal.speak())\n",
        "\n",
        "announce(Dog())\n",
        "announce(RobotDog())\n"
      ]
    },
    {
      "cell_type": "markdown",
      "metadata": {},
      "source": [
        "## 8) Abstract Base Classes (ABCs)\n",
        "Use `abc` to force subclasses to implement required methods."
      ]
    },
    {
      "cell_type": "code",
      "execution_count": 9,
      "metadata": {},
      "outputs": [
        {
          "name": "stdout",
          "output_type": "stream",
          "text": [
            "Circle area: 78.53975 color: red\n",
            "Rectangle area: 50 color: blue\n"
          ]
        }
      ],
      "source": [
        "\n",
        "from abc import ABC, abstractmethod\n",
        "\n",
        "class Shape(ABC):\n",
        "    def __init__(self, color=\"black\"):\n",
        "        self.color = color\n",
        "\n",
        "    @abstractmethod\n",
        "    def area(self):\n",
        "        pass\n",
        "\n",
        "class Circle(Shape):\n",
        "    pi = 3.14159\n",
        "    def __init__(self, radius, color=\"black\"):\n",
        "        super().__init__(color)\n",
        "        self.radius = radius\n",
        "\n",
        "    def area(self):\n",
        "        return Circle.pi * (self.radius ** 2)  # r^2\n",
        "\n",
        "class Rectangle(Shape):\n",
        "    def __init__(self, length, breadth, color=\"black\"):\n",
        "        super().__init__(color)\n",
        "        self.length = length\n",
        "        self.breadth = breadth\n",
        "\n",
        "    def area(self):\n",
        "        return self.length * self.breadth\n",
        "\n",
        "c = Circle(5, color=\"red\")\n",
        "r = Rectangle(5, 10, color=\"blue\")\n",
        "print(\"Circle area:\", c.area(), \"color:\", c.color)\n",
        "print(\"Rectangle area:\", r.area(), \"color:\", r.color)\n"
      ]
    },
    {
      "cell_type": "markdown",
      "metadata": {},
      "source": [
        "## 9) `@staticmethod` and `@classmethod`\n",
        "- `staticmethod`: utility method; no access to `cls` or `self`.\n",
        "- `classmethod`: receives the class as first arg (`cls`)."
      ]
    },
    {
      "cell_type": "code",
      "execution_count": 10,
      "metadata": {},
      "outputs": [
        {
          "name": "stdout",
          "output_type": "stream",
          "text": [
            "5\n",
            "10\n"
          ]
        }
      ],
      "source": [
        "\n",
        "class MathUtil:\n",
        "    @staticmethod\n",
        "    def add(a, b):\n",
        "        return a + b\n",
        "\n",
        "    @classmethod\n",
        "    def from_iterable(cls, it):\n",
        "        # Demo: return the sum using the static method\n",
        "        total = 0\n",
        "        for x in it:\n",
        "            total = cls.add(total, x)\n",
        "        return total\n",
        "\n",
        "print(MathUtil.add(2, 3))\n",
        "print(MathUtil.from_iterable([1,2,3,4]))\n"
      ]
    },
    {
      "cell_type": "markdown",
      "metadata": {},
      "source": [
        "## 10) Dunder Methods (`__repr__`, `__eq__`, etc.)\n",
        "Make your objects behave nicely with Python’s built-ins."
      ]
    },
    {
      "cell_type": "code",
      "execution_count": 11,
      "metadata": {},
      "outputs": [
        {
          "name": "stdout",
          "output_type": "stream",
          "text": [
            "Point(x=2, y=3)\n",
            "p1 == p2? True\n",
            "p1 == p3? False\n"
          ]
        }
      ],
      "source": [
        "\n",
        "class Point:\n",
        "    def __init__(self, x, y):\n",
        "        self.x = x\n",
        "        self.y = y\n",
        "\n",
        "    def __repr__(self):\n",
        "        return f\"Point(x={self.x}, y={self.y})\"\n",
        "\n",
        "    def __eq__(self, other):\n",
        "        if not isinstance(other, Point):\n",
        "            return NotImplemented\n",
        "        return (self.x, self.y) == (other.x, other.y)\n",
        "\n",
        "p1 = Point(2, 3)\n",
        "p2 = Point(2, 3)\n",
        "p3 = Point(5, 1)\n",
        "print(p1)            # nice repr\n",
        "print(\"p1 == p2?\", p1 == p2)\n",
        "print(\"p1 == p3?\", p1 == p3)\n"
      ]
    },
    {
      "cell_type": "markdown",
      "metadata": {},
      "source": [
        "## 11) Composition vs Inheritance\n",
        "**Composition**: build complex types by combining simpler ones."
      ]
    },
    {
      "cell_type": "code",
      "execution_count": 12,
      "metadata": {},
      "outputs": [
        {
          "name": "stdout",
          "output_type": "stream",
          "text": [
            "Car driving with engine started\n"
          ]
        }
      ],
      "source": [
        "\n",
        "class Engine:\n",
        "    def start(self):\n",
        "        return \"engine started\"\n",
        "\n",
        "class Car:\n",
        "    def __init__(self, engine: Engine):\n",
        "        self.engine = engine\n",
        "\n",
        "    def drive(self):\n",
        "        return f\"Car driving with {self.engine.start()}\"\n",
        "\n",
        "car = Car(Engine())\n",
        "print(car.drive())\n"
      ]
    },
    {
      "cell_type": "markdown",
      "metadata": {},
      "source": [
        "## Mini-Exercises\n",
        "1. Modify `BankAccount` to allow an overdraft limit.\n",
        "2. Add a `Square` that inherits from `Rectangle` but enforces `length == breadth`.\n",
        "3. Add `__lt__` to `Point` so points can be sorted by `(x, y)`."
      ]
    },
    {
      "cell_type": "markdown",
      "metadata": {},
      "source": [
        "\n",
        "## Assignment — **Library Management Mini-System**\n",
        "\n",
        "**Goal:** Build a small OOP program that models a library. Cover as many concepts as possible:\n",
        "- Classes & Objects, Constructors\n",
        "- Instance vs Class Variables\n",
        "- Encapsulation (`@property`), validation\n",
        "- Inheritance & Overriding (e.g., `Book`, `EBook`, `AudioBook`)\n",
        "- Polymorphism (duck typing for different loanable items)\n",
        "- Abstract Base Classes (`Loanable`)\n",
        "- Class/Static methods (e.g., factory or utilities)\n",
        "- Dunder methods (`__repr__`, `__eq__`)\n",
        "- Composition (Library *has many* Items, Loan *has a* Member & Item)\n",
        "- Error handling with custom exceptions\n",
        "\n",
        "**Requirements (suggested):**\n",
        "1. `Member(id, name)` with encapsulated `active` status.\n",
        "2. Abstract base class `LibraryItem` with `title`, `author`, `is_available` and abstract `loan_period_days()`.\n",
        "\n",
        "   Subclasses: `Book`, `EBook`, `AudioBook` (different loan periods).\n",
        "3. `Loan(member, item, start_date)` validates item availability & member status; computes `due_date`.\n",
        "\n",
        "4. `Library` holds collections of members and items; supports `add_member`, `add_item`, `search(title)` (polymorphic),\n",
        "\n",
        "   `checkout(member_id, item_id)`, `checkin(item_id)`.\n",
        "5. Implement `__repr__` for nice prints; implement equality for items by `id`.\n",
        "\n",
        "6. Use `@classmethod` constructor for `Member.from_dict` and a `@staticmethod` utility to parse dates.\n",
        "\n",
        "7. Raise custom exceptions (e.g., `ItemNotAvailable`, `MemberInactive`).\n",
        "\n",
        "**Stretch ideas:**\n",
        "- Add fines for late returns.\n",
        "- Serialize to JSON; add `from_json`/`to_json` classmethods.\n",
        "- CLI menu loop for interaction.\n"
      ]
    },
    {
      "cell_type": "code",
      "execution_count": 13,
      "metadata": {},
      "outputs": [
        {
          "name": "stdout",
          "output_type": "stream",
          "text": [
            "Checked out: Loan(member=Member(id=1, name='Asha', _active=True), item=Book(id=101, title='Clean Code', author='Robert C. Martin', available=False), start_date=datetime.date(2025, 8, 12), due_date=datetime.date(2025, 8, 26))\n",
            "Available after checkout? False\n",
            "Checked in. Available now? True\n",
            "Search 'python': [EBook(id=102, title='Fluent Python', author='Luciano Ramalho', available=True)]\n"
          ]
        }
      ],
      "source": [
        "\n",
        "from __future__ import annotations\n",
        "from abc import ABC, abstractmethod\n",
        "from dataclasses import dataclass\n",
        "from datetime import date, timedelta\n",
        "\n",
        "# --- Custom Exceptions ---\n",
        "class ItemNotAvailable(Exception): pass\n",
        "class MemberInactive(Exception): pass\n",
        "class NotFound(Exception): pass\n",
        "\n",
        "# --- Domain Models ---\n",
        "@dataclass(eq=True, frozen=True)\n",
        "class Member:\n",
        "    id: int\n",
        "    name: str\n",
        "    _active: bool = True\n",
        "\n",
        "    @property\n",
        "    def active(self) -> bool:\n",
        "        return self._active\n",
        "\n",
        "    def deactivate(self) -> \"Member\":\n",
        "        # return a new instance (frozen dataclass) with active False\n",
        "        return Member(self.id, self.name, False)\n",
        "\n",
        "    @classmethod\n",
        "    def from_dict(cls, d: dict) -> \"Member\":\n",
        "        return cls(id=int(d[\"id\"]), name=d[\"name\"], _active=bool(d.get(\"active\", True)))\n",
        "\n",
        "class LibraryItem(ABC):\n",
        "    def __init__(self, item_id: int, title: str, author: str):\n",
        "        self.item_id = item_id\n",
        "        self.title = title\n",
        "        self.author = author\n",
        "        self.is_available = True\n",
        "\n",
        "    def __repr__(self):\n",
        "        return f\"{self.__class__.__name__}(id={self.item_id}, title={self.title!r}, author={self.author!r}, available={self.is_available})\"\n",
        "\n",
        "    @abstractmethod\n",
        "    def loan_period_days(self) -> int:\n",
        "        pass\n",
        "\n",
        "class Book(LibraryItem):\n",
        "    def loan_period_days(self) -> int:\n",
        "        return 14\n",
        "\n",
        "class EBook(LibraryItem):\n",
        "    def loan_period_days(self) -> int:\n",
        "        return 21\n",
        "\n",
        "class AudioBook(LibraryItem):\n",
        "    def loan_period_days(self) -> int:\n",
        "        return 10\n",
        "\n",
        "@dataclass\n",
        "class Loan:\n",
        "    member: Member\n",
        "    item: LibraryItem\n",
        "    start_date: date\n",
        "    due_date: date\n",
        "\n",
        "    @staticmethod\n",
        "    def _compute_due(start: date, days: int) -> date:\n",
        "        return start + timedelta(days=days)\n",
        "\n",
        "    @classmethod\n",
        "    def create(cls, member: Member, item: LibraryItem, start: date | None = None) -> \"Loan\":\n",
        "        if not member.active:\n",
        "            raise MemberInactive(\"Member is not active\")\n",
        "        if not item.is_available:\n",
        "            raise ItemNotAvailable(\"Item is already on loan\")\n",
        "        start = start or date.today()\n",
        "        due = cls._compute_due(start, item.loan_period_days())\n",
        "        item.is_available = False\n",
        "        return cls(member, item, start, due)\n",
        "\n",
        "class Library:\n",
        "    def __init__(self):\n",
        "        self.members: dict[int, Member] = {}\n",
        "        self.items: dict[int, LibraryItem] = {}\n",
        "        self.loans: dict[int, Loan] = {}  # key by item_id\n",
        "\n",
        "    # -- Member ops --\n",
        "    def add_member(self, member: Member):\n",
        "        self.members[member.id] = member\n",
        "\n",
        "    def get_member(self, member_id: int) -> Member:\n",
        "        if member_id not in self.members:\n",
        "            raise NotFound(\"Member not found\")\n",
        "        return self.members[member_id]\n",
        "\n",
        "    # -- Item ops --\n",
        "    def add_item(self, item: LibraryItem):\n",
        "        self.items[item.item_id] = item\n",
        "\n",
        "    def get_item(self, item_id: int) -> LibraryItem:\n",
        "        if item_id not in self.items:\n",
        "            raise NotFound(\"Item not found\")\n",
        "        return self.items[item_id]\n",
        "\n",
        "    def search(self, text: str):\n",
        "        text = text.lower()\n",
        "        return [it for it in self.items.values() if text in it.title.lower()]\n",
        "\n",
        "    # -- Loan ops --\n",
        "    def checkout(self, member_id: int, item_id: int, start: date | None = None) -> Loan:\n",
        "        member = self.get_member(member_id)\n",
        "        item = self.get_item(item_id)\n",
        "        loan = Loan.create(member, item, start)\n",
        "        self.loans[item.item_id] = loan\n",
        "        return loan\n",
        "\n",
        "    def checkin(self, item_id: int):\n",
        "        item = self.get_item(item_id)\n",
        "        loan = self.loans.pop(item_id, None)\n",
        "        if loan:\n",
        "            item.is_available = True\n",
        "        return loan\n",
        "\n",
        "# --- Quick demo ---\n",
        "lib = Library()\n",
        "lib.add_member(Member(1, \"Asha\"))\n",
        "lib.add_item(Book(101, \"Clean Code\", \"Robert C. Martin\"))\n",
        "lib.add_item(EBook(102, \"Fluent Python\", \"Luciano Ramalho\"))\n",
        "lib.add_item(AudioBook(103, \"The Pragmatic Programmer\", \"Hunt & Thomas\"))\n",
        "\n",
        "loan = lib.checkout(1, 101)\n",
        "print(\"Checked out:\", loan)\n",
        "print(\"Available after checkout?\", lib.get_item(101).is_available)\n",
        "\n",
        "lib.checkin(101)\n",
        "print(\"Checked in. Available now?\", lib.get_item(101).is_available)\n",
        "\n",
        "print(\"Search 'python':\", lib.search(\"python\"))\n"
      ]
    }
  ],
  "metadata": {
    "authors": [
      {
        "name": "ChatGPT"
      }
    ],
    "kernelspec": {
      "display_name": ".venv (3.12.3)",
      "language": "python",
      "name": "python3"
    },
    "language_info": {
      "codemirror_mode": {
        "name": "ipython",
        "version": 3
      },
      "file_extension": ".py",
      "mimetype": "text/x-python",
      "name": "python",
      "nbconvert_exporter": "python",
      "pygments_lexer": "ipython3",
      "version": "3.12.3"
    },
    "title": "Object-Oriented Programming (OOP) in Python — Short Theory + Code + Assignments"
  },
  "nbformat": 4,
  "nbformat_minor": 5
}
