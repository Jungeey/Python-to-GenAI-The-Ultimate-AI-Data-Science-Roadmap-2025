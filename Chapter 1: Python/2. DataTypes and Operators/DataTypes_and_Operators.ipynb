{
 "cells": [
  {
   "cell_type": "markdown",
   "id": "c2b54143",
   "metadata": {},
   "source": [
    "# 🐍 Python Data Types, Operators, and Operands\n",
    "This notebook covers the fundamental data types in Python, explains operators, and defines operands with examples.\n",
    "\n",
    "---"
   ]
  },
  {
   "cell_type": "markdown",
   "id": "e8b7ae6a",
   "metadata": {},
   "source": [
    "## 📊 Python Data Types\n",
    "Data types define the kind of data a variable can hold. Python has several built-in data types:\n",
    "- **Numeric types:** int, float, complex\n",
    "- **Sequence types:** list, tuple, range\n",
    "- **Text type:** str\n",
    "- **Set types:** set, frozenset\n",
    "- **Mapping type:** dict\n",
    "- **Boolean type:** bool\n",
    "- **Binary types:** bytes, bytearray, memoryview\n"
   ]
  },
  {
   "cell_type": "code",
   "execution_count": 1,
   "id": "1debb993",
   "metadata": {},
   "outputs": [
    {
     "name": "stdout",
     "output_type": "stream",
     "text": [
      "Integer: 10\n",
      "Float: 20.5\n",
      "Complex: (3+4j)\n"
     ]
    }
   ],
   "source": [
    "# Numeric Types\n",
    "integer_num = 10\n",
    "float_num = 20.5\n",
    "complex_num = 3 + 4j\n",
    "\n",
    "print(\"Integer:\", integer_num)\n",
    "print(\"Float:\", float_num)\n",
    "print(\"Complex:\", complex_num)"
   ]
  },
  {
   "cell_type": "code",
   "execution_count": 2,
   "id": "180b5eb0",
   "metadata": {},
   "outputs": [
    {
     "name": "stdout",
     "output_type": "stream",
     "text": [
      "List: [1, 2, 3]\n",
      "Tuple: (4, 5, 6)\n",
      "Range converted to list: [7, 8, 9]\n"
     ]
    }
   ],
   "source": [
    "# Sequence Types\n",
    "my_list = [1, 2, 3]\n",
    "my_tuple = (4, 5, 6)\n",
    "my_range = range(7, 10)\n",
    "\n",
    "print(\"List:\", my_list)\n",
    "print(\"Tuple:\", my_tuple)\n",
    "print(\"Range converted to list:\", list(my_range))"
   ]
  },
  {
   "cell_type": "code",
   "execution_count": 3,
   "id": "82eb9a68",
   "metadata": {},
   "outputs": [
    {
     "name": "stdout",
     "output_type": "stream",
     "text": [
      "Hello, Python!\n"
     ]
    }
   ],
   "source": [
    "# Text Type\n",
    "my_string = \"Hello, Python!\"\n",
    "print(my_string)"
   ]
  },
  {
   "cell_type": "code",
   "execution_count": 4,
   "id": "fcfecc56",
   "metadata": {},
   "outputs": [
    {
     "name": "stdout",
     "output_type": "stream",
     "text": [
      "Set: {1, 2, 3}\n",
      "Frozenset: frozenset({4, 5, 6})\n"
     ]
    }
   ],
   "source": [
    "# Set Types\n",
    "my_set = {1, 2, 3}\n",
    "my_frozenset = frozenset([4, 5, 6])\n",
    "\n",
    "print(\"Set:\", my_set)\n",
    "print(\"Frozenset:\", my_frozenset)"
   ]
  },
  {
   "cell_type": "code",
   "execution_count": 5,
   "id": "4b984dbc",
   "metadata": {},
   "outputs": [
    {
     "name": "stdout",
     "output_type": "stream",
     "text": [
      "Dictionary: {'name': 'Alice', 'age': 25}\n"
     ]
    }
   ],
   "source": [
    "# Mapping Type\n",
    "my_dict = {\"name\": \"Alice\", \"age\": 25}\n",
    "print(\"Dictionary:\", my_dict)"
   ]
  },
  {
   "cell_type": "code",
   "execution_count": 6,
   "id": "d539571c",
   "metadata": {},
   "outputs": [
    {
     "name": "stdout",
     "output_type": "stream",
     "text": [
      "Is it raining? False\n"
     ]
    }
   ],
   "source": [
    "# Boolean Type\n",
    "is_raining = False\n",
    "print(\"Is it raining?\", is_raining)"
   ]
  },
  {
   "cell_type": "code",
   "execution_count": 7,
   "id": "38e7ee84",
   "metadata": {},
   "outputs": [
    {
     "name": "stdout",
     "output_type": "stream",
     "text": [
      "Bytes: b'Hello'\n",
      "Bytearray: bytearray(b'ABC')\n"
     ]
    }
   ],
   "source": [
    "# Binary Types\n",
    "my_bytes = b\"Hello\"\n",
    "my_bytearray = bytearray([65, 66, 67])\n",
    "\n",
    "print(\"Bytes:\", my_bytes)\n",
    "print(\"Bytearray:\", my_bytearray)"
   ]
  },
  {
   "cell_type": "markdown",
   "id": "ce5a43c7",
   "metadata": {},
   "source": [
    "## 🔎 Checking Data Types with `type()`"
   ]
  },
  {
   "cell_type": "code",
   "execution_count": 19,
   "id": "aaf1554f",
   "metadata": {},
   "outputs": [
    {
     "name": "stdout",
     "output_type": "stream",
     "text": [
      "<class 'int'>\n",
      "<class 'list'>\n",
      "<class 'str'>\n",
      "<class 'bool'>\n",
      "<class 'bytes'>\n"
     ]
    }
   ],
   "source": [
    "print(type(integer_num))  # <class 'int'>\n",
    "print(type(my_list))     # <class 'list'>\n",
    "print(type(my_string))   # <class 'str'>\n",
    "print(type(is_raining))  # <class 'bool'>\n",
    "print(type(my_bytes))    # <class 'bytes'>"
   ]
  },
  {
   "cell_type": "markdown",
   "id": "2e744868",
   "metadata": {},
   "source": [
    "## ⚙️ Operators and Operands\n",
    "- An **operator** is a symbol that performs operations on operands.\n",
    "- An **operand** is the value or variable on which the operator acts.\n",
    "\n",
    "Python has several types of operators:\n",
    "1. **Arithmetic Operators**\n",
    "2. **Assignment Operators**\n",
    "3. **Comparison Operators**\n",
    "4. **Logical Operators**\n",
    "5. **Bitwise Operators**\n",
    "6. **Membership Operators**\n",
    "7. **Identity Operators**"
   ]
  },
  {
   "cell_type": "markdown",
   "id": "6e78f37e",
   "metadata": {},
   "source": [
    "### 1. Arithmetic Operators\n",
    "Operators that perform mathematical operations."
   ]
  },
  {
   "cell_type": "code",
   "execution_count": 9,
   "id": "248d37b5",
   "metadata": {},
   "outputs": [
    {
     "name": "stdout",
     "output_type": "stream",
     "text": [
      "Addition: 19\n",
      "Subtraction: 11\n",
      "Multiplication: 60\n",
      "Division: 3.75\n",
      "Floor Division: 3\n",
      "Modulus: 3\n",
      "Exponentiation: 50625\n"
     ]
    }
   ],
   "source": [
    "a = 15\n",
    "b = 4\n",
    "\n",
    "print(\"Addition:\", a + b)        # 19\n",
    "print(\"Subtraction:\", a - b)     # 11\n",
    "print(\"Multiplication:\", a * b)  # 60\n",
    "print(\"Division:\", a / b)        # 3.75\n",
    "print(\"Floor Division:\", a // b) # 3\n",
    "print(\"Modulus:\", a % b)         # 3\n",
    "print(\"Exponentiation:\", a ** b) # 50625"
   ]
  },
  {
   "cell_type": "markdown",
   "id": "5fa9a17c",
   "metadata": {},
   "source": [
    "### 2. Assignment Operators\n",
    "Used to assign values to variables, sometimes combined with arithmetic operations."
   ]
  },
  {
   "cell_type": "code",
   "execution_count": 10,
   "id": "264842b7",
   "metadata": {},
   "outputs": [
    {
     "name": "stdout",
     "output_type": "stream",
     "text": [
      "Initial c: 10\n",
      "After c += 5: 15\n",
      "After c *= 2: 30\n"
     ]
    }
   ],
   "source": [
    "c = 10\n",
    "print(\"Initial c:\", c)\n",
    "c += 5  # c = c + 5\n",
    "print(\"After c += 5:\", c)\n",
    "c *= 2  # c = c * 2\n",
    "print(\"After c *= 2:\", c)"
   ]
  },
  {
   "cell_type": "markdown",
   "id": "2a1998cf",
   "metadata": {},
   "source": [
    "### 3. Comparison Operators\n",
    "Compare values and return Boolean results."
   ]
  },
  {
   "cell_type": "code",
   "execution_count": 11,
   "id": "fa3fe594",
   "metadata": {},
   "outputs": [
    {
     "name": "stdout",
     "output_type": "stream",
     "text": [
      "x == y: False\n",
      "x != y: True\n",
      "x > y: False\n",
      "x < y: True\n",
      "x >= 10: True\n",
      "y <= 20: True\n"
     ]
    }
   ],
   "source": [
    "x = 10\n",
    "y = 20\n",
    "\n",
    "print(\"x == y:\", x == y)  # False\n",
    "print(\"x != y:\", x != y)  # True\n",
    "print(\"x > y:\", x > y)    # False\n",
    "print(\"x < y:\", x < y)    # True\n",
    "print(\"x >= 10:\", x >= 10) # True\n",
    "print(\"y <= 20:\", y <= 20) # True"
   ]
  },
  {
   "cell_type": "markdown",
   "id": "29dd9b4c",
   "metadata": {},
   "source": [
    "### 4. Logical Operators\n",
    "Combine Boolean expressions."
   ]
  },
  {
   "cell_type": "code",
   "execution_count": 12,
   "id": "bbacdd8d",
   "metadata": {},
   "outputs": [
    {
     "name": "stdout",
     "output_type": "stream",
     "text": [
      "p and q: False\n",
      "p or q: True\n",
      "not p: False\n"
     ]
    }
   ],
   "source": [
    "p = True\n",
    "q = False\n",
    "\n",
    "print(\"p and q:\", p and q)  # False\n",
    "print(\"p or q:\", p or q)    # True\n",
    "print(\"not p:\", not p)      # False"
   ]
  },
  {
   "cell_type": "markdown",
   "id": "09c126b2",
   "metadata": {},
   "source": [
    "### 5. Bitwise Operators\n",
    "Operate on bits of numbers."
   ]
  },
  {
   "cell_type": "code",
   "execution_count": 13,
   "id": "fa9c57d8",
   "metadata": {},
   "outputs": [
    {
     "name": "stdout",
     "output_type": "stream",
     "text": [
      "m & n: 0\n",
      "m | n: 14\n",
      "m ^ n: 14\n",
      "~m: -11\n",
      "m << 2: 40\n",
      "m >> 2: 2\n"
     ]
    }
   ],
   "source": [
    "m = 10  # binary: 1010\n",
    "n = 4   # binary: 0100\n",
    "\n",
    "print(\"m & n:\", m & n)   # 0  (0000)\n",
    "print(\"m | n:\", m | n)   # 14 (1110)\n",
    "print(\"m ^ n:\", m ^ n)   # 14 (1110)\n",
    "print(\"~m:\", ~m)         # -11 (two's complement)\n",
    "print(\"m << 2:\", m << 2) # 40 (101000)\n",
    "print(\"m >> 2:\", m >> 2) # 2  (0010)"
   ]
  },
  {
   "cell_type": "markdown",
   "id": "28a80e9d",
   "metadata": {},
   "source": [
    "### 6. Membership Operators\n",
    "Test for membership in sequences (like lists or strings)."
   ]
  },
  {
   "cell_type": "code",
   "execution_count": 14,
   "id": "3e224a46",
   "metadata": {},
   "outputs": [
    {
     "name": "stdout",
     "output_type": "stream",
     "text": [
      "2 in my_list: True\n",
      "5 not in my_list: True\n"
     ]
    }
   ],
   "source": [
    "my_list = [1, 2, 3, 4]\n",
    "print(\"2 in my_list:\", 2 in my_list)   # True\n",
    "print(\"5 not in my_list:\", 5 not in my_list) # True"
   ]
  },
  {
   "cell_type": "markdown",
   "id": "85febed9",
   "metadata": {},
   "source": [
    "### 7. Identity Operators\n",
    "Compare the memory locations of two objects."
   ]
  },
  {
   "cell_type": "code",
   "execution_count": 15,
   "id": "88dc99f1",
   "metadata": {},
   "outputs": [
    {
     "name": "stdout",
     "output_type": "stream",
     "text": [
      "a is b: True\n",
      "a is c: False\n",
      "a == c: True\n"
     ]
    }
   ],
   "source": [
    "a = [1, 2, 3]\n",
    "b = a\n",
    "c = [1, 2, 3]\n",
    "\n",
    "print(\"a is b:\", a is b)   # True\n",
    "print(\"a is c:\", a is c)   # False\n",
    "print(\"a == c:\", a == c)   # True (values are same)"
   ]
  },
  {
   "cell_type": "markdown",
   "id": "6cc64c7e",
   "metadata": {},
   "source": [
    "## ✅ Summary\n",
    "- Python has many built-in data types like int, float, str, list, dict, etc.\n",
    "- Operators perform actions on operands.\n",
    "- Different operator categories allow arithmetic, comparison, logic, bitwise, membership, and identity operations.\n",
    "- Understanding data types and operators is essential to writing Python programs."
   ]
  },
  {
   "cell_type": "markdown",
   "id": "16551cd9",
   "metadata": {},
   "source": [
    "## 🔄 Type Casting (Type Conversion)\n",
    "**Type casting** means converting one data type to another.\n",
    "Python supports two types of type conversion:\n",
    "- **Implicit Type Casting**: Done automatically by Python.\n",
    "- **Explicit Type Casting**: Done manually by the programmer using type functions."
   ]
  },
  {
   "cell_type": "markdown",
   "id": "39926440",
   "metadata": {},
   "source": [
    "### 🔹 Implicit Type Casting\n",
    "Python automatically converts one data type to another when no data loss occurs."
   ]
  },
  {
   "cell_type": "code",
   "execution_count": 16,
   "id": "b0d6fcc1",
   "metadata": {},
   "outputs": [
    {
     "name": "stdout",
     "output_type": "stream",
     "text": [
      "Type of c: <class 'float'>\n",
      "Value of c: 7.0\n"
     ]
    }
   ],
   "source": [
    "a = 5       # int\n",
    "b = 2.0     # float\n",
    "c = a + b   # a is implicitly cast to float\n",
    "\n",
    "print(\"Type of c:\", type(c))\n",
    "print(\"Value of c:\", c)"
   ]
  },
  {
   "cell_type": "markdown",
   "id": "d6ea5a9d",
   "metadata": {},
   "source": [
    "### 🔹 Explicit Type Casting\n",
    "You manually convert one data type into another using built-in functions:\n",
    "- `int()`\n",
    "- `float()`\n",
    "- `str()`\n",
    "- `bool()`"
   ]
  },
  {
   "cell_type": "code",
   "execution_count": 17,
   "id": "d59772e4",
   "metadata": {},
   "outputs": [
    {
     "name": "stdout",
     "output_type": "stream",
     "text": [
      "int('123'): 123\n",
      "int(45.67): 45\n"
     ]
    }
   ],
   "source": [
    "x = \"123\"\n",
    "y = int(x)   # Convert string to int\n",
    "\n",
    "z = 45.67\n",
    "w = int(z)   # Convert float to int (decimal is removed)\n",
    "\n",
    "print(\"int('123'):\", y)\n",
    "print(\"int(45.67):\", w)"
   ]
  },
  {
   "cell_type": "code",
   "execution_count": 18,
   "id": "64b68ec3",
   "metadata": {},
   "outputs": [
    {
     "name": "stdout",
     "output_type": "stream",
     "text": [
      "str(10): 10\n",
      "float(10): 10.0\n",
      "bool(10): True\n"
     ]
    }
   ],
   "source": [
    "a = 10\n",
    "b = str(a)  # int to string\n",
    "c = float(a)  # int to float\n",
    "d = bool(a)   # non-zero int is True\n",
    "\n",
    "print(\"str(10):\", b)\n",
    "print(\"float(10):\", c)\n",
    "print(\"bool(10):\", d)"
   ]
  }
 ],
 "metadata": {
  "kernelspec": {
   "display_name": ".venv (3.12.3)",
   "language": "python",
   "name": "python3"
  },
  "language_info": {
   "codemirror_mode": {
    "name": "ipython",
    "version": 3
   },
   "file_extension": ".py",
   "mimetype": "text/x-python",
   "name": "python",
   "nbconvert_exporter": "python",
   "pygments_lexer": "ipython3",
   "version": "3.12.3"
  }
 },
 "nbformat": 4,
 "nbformat_minor": 5
}
