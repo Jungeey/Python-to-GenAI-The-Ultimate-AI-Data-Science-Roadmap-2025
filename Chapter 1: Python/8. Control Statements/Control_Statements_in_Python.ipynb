{
 "cells": [
  {
   "cell_type": "markdown",
   "metadata": {},
   "source": [
    "# Control Statements in Python\n",
    "\n",
    "Control statements manage the flow of a program based on conditions or repetitive logic. They help alter the sequence of execution.\n",
    "\n",
    "## Types of Control Statements:\n",
    "1. `break`\n",
    "2. `continue`\n",
    "3. `pass`\n",
    "4. `return`"
   ]
  },
  {
   "cell_type": "markdown",
   "metadata": {},
   "source": [
    "## 1. `break` Statement\n",
    "- Immediately exits the nearest enclosing loop.\n",
    "- Commonly used to stop a loop when a certain condition is met."
   ]
  },
  {
   "cell_type": "code",
   "execution_count": 1,
   "metadata": {},
   "outputs": [
    {
     "name": "stdout",
     "output_type": "stream",
     "text": [
      "0\n",
      "1\n",
      "2\n",
      "3\n",
      "4\n"
     ]
    }
   ],
   "source": [
    "# Example: Stop printing at number 5\n",
    "for i in range(10):\n",
    "    if i == 5:\n",
    "        break\n",
    "    print(i)"
   ]
  },
  {
   "cell_type": "markdown",
   "metadata": {},
   "source": [
    "## 2. `continue` Statement\n",
    "- Skips the current iteration and continues with the next one.\n",
    "- Useful when you want to skip specific cases in a loop."
   ]
  },
  {
   "cell_type": "code",
   "execution_count": 2,
   "metadata": {},
   "outputs": [
    {
     "name": "stdout",
     "output_type": "stream",
     "text": [
      "1\n",
      "3\n",
      "5\n"
     ]
    }
   ],
   "source": [
    "# Example: Skip even numbers\n",
    "for i in range(6):\n",
    "    if i % 2 == 0:\n",
    "        continue\n",
    "    print(i)"
   ]
  },
  {
   "cell_type": "markdown",
   "metadata": {},
   "source": [
    "## 3. `pass` Statement\n",
    "- A placeholder statement that does nothing.\n",
    "- Used where syntactically some code is required but you want to leave it empty for now."
   ]
  },
  {
   "cell_type": "code",
   "execution_count": 4,
   "metadata": {},
   "outputs": [],
   "source": [
    "# Example: Define a function later\n",
    "def future_feature():\n",
    "    pass"
   ]
  },
  {
   "cell_type": "markdown",
   "metadata": {},
   "source": [
    "## 4. `return` Statement\n",
    "- Used inside functions to return values and exit the function.\n",
    "- Execution stops as soon as `return` is called."
   ]
  },
  {
   "cell_type": "code",
   "execution_count": 5,
   "metadata": {},
   "outputs": [
    {
     "name": "stdout",
     "output_type": "stream",
     "text": [
      "Square: 16\n"
     ]
    }
   ],
   "source": [
    "# Example: Return the square of a number\n",
    "def square(n):\n",
    "    return n * n\n",
    "\n",
    "result = square(4)\n",
    "print(\"Square:\", result)"
   ]
  },
  {
   "cell_type": "markdown",
   "metadata": {},
   "source": [
    "## 🔍 Task: Analyze User Input Until Exit\n",
    "\n",
    "Write a program that continuously asks the user for input until they type `'exit'`. If the user types `'skip'`, ignore that input. If they type `'stop'`, break the loop and stop asking."
   ]
  },
  {
   "cell_type": "code",
   "execution_count": 6,
   "metadata": {},
   "outputs": [
    {
     "name": "stdout",
     "output_type": "stream",
     "text": [
      "Stopping via break\n"
     ]
    }
   ],
   "source": [
    "while True:\n",
    "    user_input = input(\"Enter something (type 'exit', 'skip', or 'stop'): \")\n",
    "    if user_input == 'exit':\n",
    "        print(\"Exiting without break...\")\n",
    "        break\n",
    "    elif user_input == 'skip':\n",
    "        continue\n",
    "    elif user_input == 'stop':\n",
    "        print(\"Stopping via break\")\n",
    "        break\n",
    "    else:\n",
    "        print(\"You entered:\", user_input)"
   ]
  }
 ],
 "metadata": {
  "kernelspec": {
   "display_name": ".venv (3.12.3)",
   "language": "python",
   "name": "python3"
  },
  "language_info": {
   "codemirror_mode": {
    "name": "ipython",
    "version": 3
   },
   "file_extension": ".py",
   "mimetype": "text/x-python",
   "name": "python",
   "nbconvert_exporter": "python",
   "pygments_lexer": "ipython3",
   "version": "3.12.3"
  }
 },
 "nbformat": 4,
 "nbformat_minor": 2
}
