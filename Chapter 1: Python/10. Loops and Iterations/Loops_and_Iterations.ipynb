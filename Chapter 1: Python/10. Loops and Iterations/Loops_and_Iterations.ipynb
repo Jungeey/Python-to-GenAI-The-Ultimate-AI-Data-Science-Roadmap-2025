{
 "cells": [
  {
   "cell_type": "markdown",
   "metadata": {},
   "source": [
    "# Loops & Iterations in Python\n",
    "\n",
    "Loops allow us to execute a block of code repeatedly. Python supports two main types of loops:\n",
    "- **`for` loops**\n",
    "- **`while` loops**\n",
    "\n",
    "Additionally, Python provides `break`, `continue`, and `else` clauses to control loop behavior."
   ]
  },
  {
   "cell_type": "markdown",
   "metadata": {},
   "source": [
    "## 🔁 `for` Loop\n",
    "\n",
    "Used for iterating over a sequence (like a list, tuple, string, or range)."
   ]
  },
  {
   "cell_type": "code",
   "execution_count": 5,
   "metadata": {},
   "outputs": [
    {
     "name": "stdout",
     "output_type": "stream",
     "text": [
      "Hello, Alice\n",
      "Hello, Bob\n",
      "Hello, Charlie\n"
     ]
    }
   ],
   "source": [
    "names = [\"Alice\", \"Bob\", \"Charlie\"]\n",
    "for name in names:\n",
    "    print(\"Hello,\", name)"
   ]
  },
  {
   "cell_type": "code",
   "execution_count": 6,
   "metadata": {},
   "outputs": [
    {
     "name": "stdout",
     "output_type": "stream",
     "text": [
      "{'Alice': 5, 'Bob': 3, 'Charlie': 7}\n"
     ]
    }
   ],
   "source": [
    "length = {i: len(i) for i in names}\n",
    "print(length)"
   ]
  },
  {
   "cell_type": "code",
   "execution_count": 7,
   "metadata": {},
   "outputs": [
    {
     "name": "stdout",
     "output_type": "stream",
     "text": [
      "(1, ['Alice', 25])\n",
      "(2, ['Bob', 50])\n",
      "(3, ['Charlie', 40])\n"
     ]
    }
   ],
   "source": [
    "marks = {\n",
    "    1: [\"Alice\",25],\n",
    "    2: [\"Bob\",50],\n",
    "    3: [\"Charlie\",40]\n",
    "}\n",
    "\n",
    "for i in marks.items():\n",
    "    print(i)"
   ]
  },
  {
   "cell_type": "code",
   "execution_count": 8,
   "metadata": {},
   "outputs": [
    {
     "name": "stdout",
     "output_type": "stream",
     "text": [
      "1 ['Alice', 25]\n",
      "2 ['Bob', 50]\n",
      "3 ['Charlie', 40]\n"
     ]
    }
   ],
   "source": [
    "for i,j in marks.items():\n",
    "    print(i,j)"
   ]
  },
  {
   "cell_type": "markdown",
   "metadata": {},
   "source": [
    "### `range()` with `for`\n",
    "Often used to generate numbers in loops."
   ]
  },
  {
   "cell_type": "code",
   "execution_count": 9,
   "metadata": {},
   "outputs": [
    {
     "name": "stdout",
     "output_type": "stream",
     "text": [
      "Count: 0\n",
      "Count: 1\n",
      "Count: 2\n",
      "Count: 3\n",
      "Count: 4\n",
      "Count: 5\n"
     ]
    }
   ],
   "source": [
    "for i in range(0, 6):\n",
    "    print(\"Count:\", i)"
   ]
  },
  {
   "cell_type": "markdown",
   "metadata": {},
   "source": [
    "## 🔁 `while` Loop\n",
    "\n",
    "Executes a block as long as a condition is `True`."
   ]
  },
  {
   "cell_type": "code",
   "execution_count": 10,
   "metadata": {},
   "outputs": [
    {
     "name": "stdout",
     "output_type": "stream",
     "text": [
      "Countdown: 3\n",
      "Countdown: 2\n",
      "Countdown: 1\n"
     ]
    }
   ],
   "source": [
    "x = 3\n",
    "while x > 0:\n",
    "    print(\"Countdown:\", x)\n",
    "    x -= 1"
   ]
  },
  {
   "cell_type": "markdown",
   "metadata": {},
   "source": [
    "## ⛔ `break` and `continue`\n",
    "\n",
    "- `break`: Exit the loop entirely\n",
    "- `continue`: Skip to next iteration"
   ]
  },
  {
   "cell_type": "code",
   "execution_count": 11,
   "metadata": {},
   "outputs": [
    {
     "name": "stdout",
     "output_type": "stream",
     "text": [
      "1\n",
      "2\n",
      "4\n",
      "5\n"
     ]
    }
   ],
   "source": [
    "for num in range(1, 6):\n",
    "    if num == 3:\n",
    "        continue  # Skip 3\n",
    "    print(num)"
   ]
  },
  {
   "cell_type": "code",
   "execution_count": 12,
   "metadata": {},
   "outputs": [
    {
     "name": "stdout",
     "output_type": "stream",
     "text": [
      "1\n",
      "2\n",
      "3\n"
     ]
    }
   ],
   "source": [
    "for num in range(1, 6):\n",
    "    if num == 4:\n",
    "        break  # Stop at 4\n",
    "    print(num)"
   ]
  },
  {
   "cell_type": "markdown",
   "metadata": {},
   "source": [
    "## ✅ `else` with Loops\n",
    "\n",
    "An optional `else` block can follow a loop. It executes only if the loop completes normally (not terminated by `break`)."
   ]
  },
  {
   "cell_type": "code",
   "execution_count": 13,
   "metadata": {},
   "outputs": [
    {
     "name": "stdout",
     "output_type": "stream",
     "text": [
      "Attempt 0\n",
      "Attempt 1\n",
      "Attempt 2\n",
      "Completed without break\n"
     ]
    }
   ],
   "source": [
    "for i in range(3):\n",
    "    print(\"Attempt\", i)\n",
    "else:\n",
    "    print(\"Completed without break\")"
   ]
  },
  {
   "cell_type": "markdown",
   "metadata": {},
   "source": [
    "## 🔄 Nested Loops\n",
    "\n",
    "You can nest loops inside other loops."
   ]
  },
  {
   "cell_type": "code",
   "execution_count": 14,
   "metadata": {},
   "outputs": [
    {
     "name": "stdout",
     "output_type": "stream",
     "text": [
      "i=1, j=1\n",
      "i=1, j=2\n",
      "i=2, j=1\n",
      "i=2, j=2\n",
      "i=3, j=1\n",
      "i=3, j=2\n"
     ]
    }
   ],
   "source": [
    "for i in range(1, 4):\n",
    "    for j in range(1, 3):\n",
    "        print(f\"i={i}, j={j}\")"
   ]
  },
  {
   "cell_type": "markdown",
   "metadata": {},
   "source": [
    "# 🧠 Task: Interactive Student Quiz System\n",
    "\n",
    "**Objective:** Build a simple quiz system that:\n",
    "- Stores a list of questions and their correct answers\n",
    "- Asks users each question\n",
    "- Records how many answers were correct\n",
    "- Displays the final score and performance level\n",
    "\n",
    "**Try to use:** loops, if conditions, counters, list iteration"
   ]
  },
  {
   "cell_type": "code",
   "execution_count": 15,
   "metadata": {},
   "outputs": [],
   "source": [
    "# Sample Questions\n",
    "questions = [\n",
    "    [\"What is the capital of France?\", \"Paris\"],\n",
    "    [\"What is 2 + 2?\", \"4\"],\n",
    "    [\"What color do you get when you mix red and blue?\", \"Purple\"]\n",
    "]"
   ]
  },
  {
   "cell_type": "code",
   "execution_count": 16,
   "metadata": {},
   "outputs": [],
   "source": [
    "score = 0"
   ]
  },
  {
   "cell_type": "code",
   "execution_count": 17,
   "metadata": {},
   "outputs": [
    {
     "name": "stdout",
     "output_type": "stream",
     "text": [
      "✅ Correct!\n",
      "✅ Correct!\n",
      "❌ Wrong! Correct Answer: Purple\n"
     ]
    }
   ],
   "source": [
    "for q in questions:\n",
    "    answer = input(q[0] + \" \")\n",
    "    if answer.strip().lower() == q[1].lower():\n",
    "        print(\"✅ Correct!\")\n",
    "        score += 1\n",
    "    else:\n",
    "        print(f\"❌ Wrong! Correct Answer: {q[1]}\")"
   ]
  },
  {
   "cell_type": "code",
   "execution_count": 18,
   "metadata": {},
   "outputs": [
    {
     "name": "stdout",
     "output_type": "stream",
     "text": [
      "\n",
      "Quiz Completed!\n",
      "Your Score: 2 / 3\n"
     ]
    }
   ],
   "source": [
    "print(\"\\nQuiz Completed!\")\n",
    "print(\"Your Score:\", score, \"/\", len(questions))"
   ]
  },
  {
   "cell_type": "code",
   "execution_count": 19,
   "metadata": {},
   "outputs": [
    {
     "name": "stdout",
     "output_type": "stream",
     "text": [
      "👍 Good job!\n"
     ]
    }
   ],
   "source": [
    "if score == len(questions):\n",
    "    print(\"🌟 Excellent!\")\n",
    "elif score >= 2:\n",
    "    print(\"👍 Good job!\")\n",
    "else:\n",
    "    print(\"📘 Keep Practicing!\")"
   ]
  }
 ],
 "metadata": {
  "kernelspec": {
   "display_name": ".venv (3.12.3)",
   "language": "python",
   "name": "python3"
  },
  "language_info": {
   "codemirror_mode": {
    "name": "ipython",
    "version": 3
   },
   "file_extension": ".py",
   "mimetype": "text/x-python",
   "name": "python",
   "nbconvert_exporter": "python",
   "pygments_lexer": "ipython3",
   "version": "3.12.3"
  }
 },
 "nbformat": 4,
 "nbformat_minor": 2
}
