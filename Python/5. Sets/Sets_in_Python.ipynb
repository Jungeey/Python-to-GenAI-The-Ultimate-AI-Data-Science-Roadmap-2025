{
 "cells": [
  {
   "cell_type": "markdown",
   "id": "94621050",
   "metadata": {},
   "source": [
    "# Sets in Python: Concepts, Operations, and Applications\n",
    "Sets are unordered, mutable collections of **unique** elements. They are commonly used for membership testing, removing duplicates, and performing mathematical set operations like union, intersection, and difference."
   ]
  },
  {
   "cell_type": "markdown",
   "id": "0fe048b2",
   "metadata": {},
   "source": [
    "## Creating Sets\n",
    "Sets can be created using curly braces `{}` or the built-in `set()` function."
   ]
  },
  {
   "cell_type": "code",
   "execution_count": 19,
   "id": "2972b95b",
   "metadata": {},
   "outputs": [
    {
     "name": "stdout",
     "output_type": "stream",
     "text": [
      "{'red', 'green', 'blue'}\n",
      "{1, 2, 3, 4}\n"
     ]
    }
   ],
   "source": [
    "# Creating sets with curly braces\n",
    "colors = {'red', 'blue', 'green'}\n",
    "print(colors)\n",
    "\n",
    "# Creating sets using set() constructor\n",
    "unique_numbers = set([1, 2, 2, 3, 4, 4])\n",
    "print(unique_numbers)  # Duplicates are removed"
   ]
  },
  {
   "cell_type": "markdown",
   "id": "eb5d99e4",
   "metadata": {},
   "source": [
    "## Key Properties of Sets\n",
    "- Unordered: Items have no defined order\n",
    "- Mutable: Can add or remove elements\n",
    "- No Duplicates: Each element is unique\n",
    "- Can only store **immutable** (hashable) items like numbers, strings, and tuples"
   ]
  },
  {
   "cell_type": "markdown",
   "id": "fa245b1c",
   "metadata": {},
   "source": [
    "## Basic Set Operations"
   ]
  },
  {
   "cell_type": "code",
   "execution_count": 20,
   "id": "511c7318",
   "metadata": {},
   "outputs": [
    {
     "name": "stdout",
     "output_type": "stream",
     "text": [
      "{'C++', 'Python', 'Java', 'Go'}\n",
      "{'C++', 'Python', 'Go'}\n",
      "set()\n"
     ]
    }
   ],
   "source": [
    "languages = {'Python', 'Java', 'C++'}\n",
    "\n",
    "# Add a new element\n",
    "languages.add('Go')\n",
    "print(languages)\n",
    "\n",
    "# Remove an element safely\n",
    "languages.discard('Java')\n",
    "print(languages)\n",
    "\n",
    "# Clear all elements\n",
    "copy_of_languages = languages.copy()\n",
    "copy_of_languages.clear()\n",
    "print(copy_of_languages)"
   ]
  },
  {
   "cell_type": "markdown",
   "id": "3022f70d",
   "metadata": {},
   "source": [
    "## Mathematical Set Operations"
   ]
  },
  {
   "cell_type": "code",
   "execution_count": 21,
   "id": "47de0dac",
   "metadata": {},
   "outputs": [
    {
     "name": "stdout",
     "output_type": "stream",
     "text": [
      "Union: {'CSS', 'Python', 'SQL', 'HTML', 'JavaScript'}\n",
      "Intersection: {'JavaScript'}\n",
      "Difference (Frontend only): {'HTML', 'CSS'}\n",
      "Symmetric Difference: {'Python', 'SQL', 'CSS', 'HTML'}\n"
     ]
    }
   ],
   "source": [
    "frontend = {'HTML', 'CSS', 'JavaScript'}\n",
    "backend = {'Python', 'JavaScript', 'SQL'}\n",
    "\n",
    "total_stack = frontend.union(backend)\n",
    "print(\"Union:\", total_stack)\n",
    "\n",
    "common_skills = frontend.intersection(backend)\n",
    "print(\"Intersection:\", common_skills)\n",
    "\n",
    "only_frontend = frontend.difference(backend)\n",
    "print(\"Difference (Frontend only):\", only_frontend)\n",
    "\n",
    "sym_diff = frontend.symmetric_difference(backend)\n",
    "print(\"Symmetric Difference:\", sym_diff)"
   ]
  },
  {
   "cell_type": "markdown",
   "id": "923e0cd9",
   "metadata": {},
   "source": [
    "## Subset, Superset, and Disjoint Checks"
   ]
  },
  {
   "cell_type": "code",
   "execution_count": 22,
   "id": "b24503ba",
   "metadata": {},
   "outputs": [
    {
     "name": "stdout",
     "output_type": "stream",
     "text": [
      "Is subset: True\n",
      "Is superset: True\n",
      "Is disjoint: True\n"
     ]
    }
   ],
   "source": [
    "primary_colors = {'red', 'blue'}\n",
    "all_colors = {'red', 'blue', 'green', 'yellow'}\n",
    "\n",
    "print(\"Is subset:\", primary_colors.issubset(all_colors))\n",
    "print(\"Is superset:\", all_colors.issuperset(primary_colors))\n",
    "print(\"Is disjoint:\", primary_colors.isdisjoint({'orange'}))"
   ]
  },
  {
   "cell_type": "markdown",
   "id": "5683e67c",
   "metadata": {},
   "source": [
    "## Immutable Sets: `frozenset`\n",
    "Sometimes you need a set that cannot be changed after creation. For this, Python provides `frozenset`."
   ]
  },
  {
   "cell_type": "code",
   "execution_count": 23,
   "id": "5bcd85af",
   "metadata": {},
   "outputs": [
    {
     "name": "stdout",
     "output_type": "stream",
     "text": [
      "frozenset({'cherry', 'banana', 'apple'})\n"
     ]
    }
   ],
   "source": [
    "immutable_set = frozenset(['apple', 'banana', 'cherry'])\n",
    "print(immutable_set)\n",
    "\n",
    "# immutable_set.add('kiwi')  # ❌ Will raise an AttributeError"
   ]
  },
  {
   "cell_type": "markdown",
   "id": "a3b059a0",
   "metadata": {},
   "source": [
    "## 🧠 Practical Task: Club Member Management\n",
    "Create a system to manage members of two different hobby clubs: Robotics and Photography.\n",
    "\n",
    "**Instructions:**\n",
    "1. Define two sets of names representing the members of each club.\n",
    "\n",
    "2. Find students who are in both clubs.\n",
    "\n",
    "3. List students who are only in one of the two clubs.\n",
    "\n",
    "4. Find all unique students.\n",
    "\n",
    "5. Add a new student to both sets.\n",
    "\n",
    "6. Remove a student who has dropped out from all clubs.\n",
    "\n",
    "7. Check if all robotics members are also photography members."
   ]
  },
  {
   "cell_type": "code",
   "execution_count": 24,
   "id": "130e2904",
   "metadata": {},
   "outputs": [],
   "source": [
    "# Define the sets\n",
    "robotics_club = {'Anish', 'Riya', 'Kabir', 'Sita'}\n",
    "photography_club = {'Kabir', 'Riya', 'Nina', 'Om'}"
   ]
  },
  {
   "cell_type": "code",
   "execution_count": 25,
   "id": "7e0120c8",
   "metadata": {},
   "outputs": [
    {
     "name": "stdout",
     "output_type": "stream",
     "text": [
      "In both clubs: {'Kabir', 'Riya'}\n"
     ]
    }
   ],
   "source": [
    "# Students in both clubs\n",
    "both = robotics_club & photography_club\n",
    "print(\"In both clubs:\", both)"
   ]
  },
  {
   "cell_type": "code",
   "execution_count": 26,
   "id": "dac55f74",
   "metadata": {},
   "outputs": [
    {
     "name": "stdout",
     "output_type": "stream",
     "text": [
      "Only in one club: {'Anish', 'Sita', 'Nina', 'Om'}\n"
     ]
    }
   ],
   "source": [
    "# Exclusive members\n",
    "exclusive = robotics_club ^ photography_club\n",
    "print(\"Only in one club:\", exclusive)"
   ]
  },
  {
   "cell_type": "code",
   "execution_count": 27,
   "id": "60eec3dd",
   "metadata": {},
   "outputs": [
    {
     "name": "stdout",
     "output_type": "stream",
     "text": [
      "All students: {'Riya', 'Anish', 'Sita', 'Nina', 'Om', 'Kabir'}\n"
     ]
    }
   ],
   "source": [
    "# All members\n",
    "all_members = robotics_club | photography_club\n",
    "print(\"All students:\", all_members)"
   ]
  },
  {
   "cell_type": "code",
   "execution_count": 28,
   "id": "39c4de11",
   "metadata": {},
   "outputs": [],
   "source": [
    "# Add new student\n",
    "robotics_club.add('Zara')\n",
    "photography_club.add('Zara')"
   ]
  },
  {
   "cell_type": "code",
   "execution_count": 29,
   "id": "a8211055",
   "metadata": {},
   "outputs": [],
   "source": [
    "# Remove student who dropped out\n",
    "robotics_club.discard('Sita')\n",
    "photography_club.discard('Om')"
   ]
  },
  {
   "cell_type": "code",
   "execution_count": 30,
   "id": "611b6842",
   "metadata": {},
   "outputs": [
    {
     "name": "stdout",
     "output_type": "stream",
     "text": [
      "Robotics ⊆ Photography: False\n"
     ]
    }
   ],
   "source": [
    "# Check if robotics is a subset\n",
    "print(\"Robotics ⊆ Photography:\", robotics_club.issubset(photography_club))"
   ]
  }
 ],
 "metadata": {
  "kernelspec": {
   "display_name": ".venv (3.12.3)",
   "language": "python",
   "name": "python3"
  },
  "language_info": {
   "name": "python",
   "version": "3.12.3"
  }
 },
 "nbformat": 4,
 "nbformat_minor": 5
}
