{
 "cells": [
  {
   "cell_type": "markdown",
   "metadata": {},
   "source": [
    "# Tuples in Python: Properties, Usage, and Operations"
   ]
  },
  {
   "cell_type": "markdown",
   "metadata": {},
   "source": [
    "## 🔹 What is a Tuple?\n",
    "\n",
    "- A **tuple** is an ordered, immutable collection of items.\n",
    "- Items can be of mixed data types.\n",
    "- Defined using **parentheses** `()` or just commas `,`.\n",
    "- Once created, items **cannot be changed** (immutable)."
   ]
  },
  {
   "cell_type": "code",
   "execution_count": null,
   "metadata": {},
   "outputs": [],
   "source": [
    "# Example tuple\n",
    "my_tuple = (1, 2, 3, \"hello\", 4.5)\n",
    "print(my_tuple)"
   ]
  },
  {
   "cell_type": "markdown",
   "metadata": {},
   "source": [
    "## 🔹 Tuple Properties"
   ]
  },
  {
   "cell_type": "markdown",
   "metadata": {},
   "source": [
    "- Ordered: Elements maintain insertion order\n",
    "- Immutable: Cannot be modified after creation\n",
    "- Allow duplicates\n",
    "- Can contain heterogeneous data types"
   ]
  },
  {
   "cell_type": "code",
   "execution_count": null,
   "metadata": {},
   "outputs": [
    {
     "name": "stdout",
     "output_type": "stream",
     "text": [
      "Empty: ()\n",
      "One element: (5,)\n",
      "Single Element: (42,)\n",
      "Nested: (1, [2, 3], (4, 5))\n"
     ]
    }
   ],
   "source": [
    "# Creating different tuples\n",
    "empty_tuple = ()\n",
    "\n",
    "one_element = (5,)  # Note the comma\n",
    "# one_element = (5) is also integer\n",
    "\n",
    "single_element = 42,\n",
    "# single_element = 42 is integer\n",
    "\n",
    "nested_tuple = (1, [2, 3], (4, 5))\n",
    "\n",
    "print(\"Empty:\", empty_tuple)\n",
    "print(\"One element:\", one_element)\n",
    "print(\"Single Element:\", single_element)\n",
    "print(\"Nested:\", nested_tuple)"
   ]
  },
  {
   "cell_type": "markdown",
   "metadata": {},
   "source": [
    "## 🔹 Tuple Indexing and Slicing"
   ]
  },
  {
   "cell_type": "code",
   "execution_count": null,
   "metadata": {},
   "outputs": [
    {
     "name": "stdout",
     "output_type": "stream",
     "text": [
      "10\n",
      "50\n",
      "(20, 30, 40)\n",
      "(20, 30, 40)\n"
     ]
    }
   ],
   "source": [
    "t = (10, 20, 30, 40, 50)\n",
    "print(t[0])      # First element\n",
    "print(t[-1])     # Last element\n",
    "print(t[1:4])    # Slicing\n",
    "print(t[-4:-1])  # Slicing"
   ]
  },
  {
   "cell_type": "markdown",
   "metadata": {},
   "source": [
    "## 🔹 Tuple Operations"
   ]
  },
  {
   "cell_type": "code",
   "execution_count": 5,
   "metadata": {},
   "outputs": [
    {
     "name": "stdout",
     "output_type": "stream",
     "text": [
      "(1, 2, 3, 4, 5)\n",
      "(1, 2, 3, 1, 2, 3)\n",
      "True\n",
      "True\n",
      "3\n"
     ]
    }
   ],
   "source": [
    "a = (1, 2, 3)\n",
    "b = (4, 5)\n",
    "\n",
    "# Concatenation\n",
    "print(a + b)\n",
    "\n",
    "# Repetition\n",
    "print(a * 2)\n",
    "\n",
    "# Membership\n",
    "print(2 in a)\n",
    "print(6 not in b)\n",
    "\n",
    "# Length\n",
    "print(len(a))"
   ]
  },
  {
   "cell_type": "markdown",
   "metadata": {},
   "source": [
    "## 🔹 Tuple Methods"
   ]
  },
  {
   "cell_type": "code",
   "execution_count": 4,
   "metadata": {},
   "outputs": [
    {
     "name": "stdout",
     "output_type": "stream",
     "text": [
      "3\n",
      "3\n"
     ]
    }
   ],
   "source": [
    "t = (1, 2, 2, 3, 4, 2)\n",
    "print(t.count(2))   # How many times 2 appears\n",
    "print(t.index(3))   # First index of 3"
   ]
  },
  {
   "cell_type": "markdown",
   "id": "2f31fe2e",
   "metadata": {},
   "source": [
    "## 🔹 Sorting a Tuple"
   ]
  },
  {
   "cell_type": "code",
   "execution_count": 12,
   "id": "66994b17",
   "metadata": {},
   "outputs": [
    {
     "name": "stdout",
     "output_type": "stream",
     "text": [
      "Original tuple: (5, 2, 9, 1, 7)\n",
      "Sorted tuple: (1, 2, 5, 7, 9)\n"
     ]
    }
   ],
   "source": [
    "numbers = (5, 2, 9, 1, 7)\n",
    "\n",
    "# Convert to list, sort, and convert back to tuple\n",
    "sorted_numbers = tuple(sorted(numbers))\n",
    "\n",
    "print(\"Original tuple:\", numbers)\n",
    "print(\"Sorted tuple:\", sorted_numbers)\n"
   ]
  },
  {
   "cell_type": "markdown",
   "metadata": {},
   "source": [
    "## 🔹 Tuple vs List (Key Differences)\n",
    "\n",
    "| Feature        | List           | Tuple         |\n",
    "|----------------|----------------|----------------|\n",
    "| Mutable        | ✅ Yes         | ❌ No         |\n",
    "| Syntax         | `[]`           | `()`           |\n",
    "| Methods        | More           | Fewer          |\n",
    "| Performance    | Slower         | Faster         |\n",
    "| Use Case       | Data that may change | Constant data |\n"
   ]
  },
  {
   "cell_type": "markdown",
   "metadata": {},
   "source": [
    "## 📝 Comprehensive Task: **Student Record Viewer**\n",
    "\n",
    "**Problem Statement:**\n",
    "\n",
    "You are creating a student record system using tuples.\n",
    "\n",
    "Each student record is a tuple: `(Name, Roll No, GPA, Major)`.\n",
    "\n",
    "You need to:\n",
    "1. Create a list of 5 such student tuples.\n",
    "\n",
    "2. Print all student names using a loop.\n",
    "\n",
    "3. Find the student with the highest GPA.\n",
    "\n",
    "4. Create a list of all majors (no duplicates).\n",
    "\n",
    "5. Display a sorted list of students by Roll No.\n",
    "\n",
    "6. Print a summary showing:\n",
    "   - Total students\n",
    "   - Average GPA\n",
    "   - List of Majors"
   ]
  },
  {
   "cell_type": "code",
   "execution_count": 6,
   "id": "b7809d54",
   "metadata": {},
   "outputs": [],
   "source": [
    "# Step 1: Student Records\n",
    "students = [\n",
    "    (\"Alice\", 101, 3.9, \"CS\"),\n",
    "    (\"Bob\", 105, 3.4, \"Math\"),\n",
    "    (\"Charlie\", 102, 3.7, \"Physics\"),\n",
    "    (\"Diana\", 103, 4.0, \"CS\"),\n",
    "    (\"Eve\", 104, 3.6, \"Biology\")\n",
    "]\n"
   ]
  },
  {
   "cell_type": "code",
   "execution_count": 7,
   "id": "d4e55813",
   "metadata": {},
   "outputs": [
    {
     "name": "stdout",
     "output_type": "stream",
     "text": [
      "Student Names:\n",
      "Alice\n",
      "Bob\n",
      "Charlie\n",
      "Diana\n",
      "Eve\n"
     ]
    }
   ],
   "source": [
    "# Step 2: Print Names\n",
    "print(\"Student Names:\")\n",
    "for student in students:\n",
    "    print(student[0])"
   ]
  },
  {
   "cell_type": "code",
   "execution_count": 8,
   "id": "48f2affd",
   "metadata": {},
   "outputs": [
    {
     "name": "stdout",
     "output_type": "stream",
     "text": [
      "\n",
      "Top Student: Diana with GPA 4.0\n"
     ]
    }
   ],
   "source": [
    "# Step 3: Highest GPA\n",
    "top_student = max(students, key=lambda x: x[2])\n",
    "print(\"\\nTop Student:\", top_student[0], \"with GPA\", top_student[2])"
   ]
  },
  {
   "cell_type": "code",
   "execution_count": 9,
   "id": "1ba58b15",
   "metadata": {},
   "outputs": [
    {
     "name": "stdout",
     "output_type": "stream",
     "text": [
      "\n",
      "Majors: ['Biology', 'Math', 'Physics', 'CS']\n"
     ]
    }
   ],
   "source": [
    "# Step 4: Unique Majors\n",
    "majors = list(set([s[3] for s in students]))\n",
    "print(\"\\nMajors:\", majors)"
   ]
  },
  {
   "cell_type": "code",
   "execution_count": 10,
   "id": "6107c78f",
   "metadata": {},
   "outputs": [
    {
     "name": "stdout",
     "output_type": "stream",
     "text": [
      "\n",
      "Students sorted by Roll No:\n",
      "('Alice', 101, 3.9, 'CS')\n",
      "('Charlie', 102, 3.7, 'Physics')\n",
      "('Diana', 103, 4.0, 'CS')\n",
      "('Eve', 104, 3.6, 'Biology')\n",
      "('Bob', 105, 3.4, 'Math')\n"
     ]
    }
   ],
   "source": [
    "# Step 5: Sorted by Roll No\n",
    "sorted_students = sorted(students, key=lambda x: x[1])\n",
    "print(\"\\nStudents sorted by Roll No:\")\n",
    "for s in sorted_students:\n",
    "    print(s)"
   ]
  },
  {
   "cell_type": "code",
   "execution_count": 11,
   "metadata": {},
   "outputs": [
    {
     "name": "stdout",
     "output_type": "stream",
     "text": [
      "\n",
      "Summary:\n",
      "Total students: 5\n",
      "Average GPA: 3.72\n",
      "Majors: ['Biology', 'Math', 'Physics', 'CS']\n"
     ]
    }
   ],
   "source": [
    "# Step 6: Summary\n",
    "average_gpa = sum([s[2] for s in students]) / len(students)\n",
    "print(\"\\nSummary:\")\n",
    "print(\"Total students:\", len(students))\n",
    "print(\"Average GPA:\", round(average_gpa, 2))\n",
    "print(\"Majors:\", majors)"
   ]
  }
 ],
 "metadata": {
  "kernelspec": {
   "display_name": ".venv (3.12.3)",
   "language": "python",
   "name": "python3"
  },
  "language_info": {
   "codemirror_mode": {
    "name": "ipython",
    "version": 3
   },
   "file_extension": ".py",
   "mimetype": "text/x-python",
   "name": "python",
   "nbconvert_exporter": "python",
   "pygments_lexer": "ipython3",
   "version": "3.12.3"
  }
 },
 "nbformat": 4,
 "nbformat_minor": 5
}
