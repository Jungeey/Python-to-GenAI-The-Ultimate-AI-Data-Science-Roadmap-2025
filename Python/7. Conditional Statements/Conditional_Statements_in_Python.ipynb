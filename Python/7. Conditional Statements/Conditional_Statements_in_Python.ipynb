{
 "cells": [
  {
   "cell_type": "markdown",
   "id": "5dcf88c6",
   "metadata": {},
   "source": [
    "# 🔁 Conditional Statements in Python\n",
    "Learn how to use `if`, `else`, `elif`, and `match-case` in Python."
   ]
  },
  {
   "cell_type": "markdown",
   "id": "f6bc39ed",
   "metadata": {},
   "source": [
    "## 🔹 1. `if` Statement"
   ]
  },
  {
   "cell_type": "code",
   "execution_count": 1,
   "id": "5cf46e26",
   "metadata": {},
   "outputs": [
    {
     "name": "stdout",
     "output_type": "stream",
     "text": [
      "You are eligible to vote.\n"
     ]
    }
   ],
   "source": [
    "age = 20\n",
    "if age >= 18:\n",
    "    print(\"You are eligible to vote.\")"
   ]
  },
  {
   "cell_type": "markdown",
   "id": "7866b7d5",
   "metadata": {},
   "source": [
    "## 🔹 2. `if-else` Statement"
   ]
  },
  {
   "cell_type": "code",
   "execution_count": 2,
   "id": "44f8db9e",
   "metadata": {},
   "outputs": [
    {
     "name": "stdout",
     "output_type": "stream",
     "text": [
      "Odd\n"
     ]
    }
   ],
   "source": [
    "num = 5\n",
    "if num % 2 == 0:\n",
    "    print(\"Even\")\n",
    "else:\n",
    "    print(\"Odd\")"
   ]
  },
  {
   "cell_type": "markdown",
   "id": "2b0bb2c9",
   "metadata": {},
   "source": [
    "## 🔹 3. `if-elif-else` Statement"
   ]
  },
  {
   "cell_type": "code",
   "execution_count": 3,
   "id": "dec8cbc8",
   "metadata": {},
   "outputs": [
    {
     "name": "stdout",
     "output_type": "stream",
     "text": [
      "Grade B\n"
     ]
    }
   ],
   "source": [
    "score = 85\n",
    "if score >= 90:\n",
    "    print(\"Grade A\")\n",
    "elif score >= 75:\n",
    "    print(\"Grade B\")\n",
    "elif score >= 60:\n",
    "    print(\"Grade C\")\n",
    "else:\n",
    "    print(\"Grade D\")"
   ]
  },
  {
   "cell_type": "markdown",
   "id": "1dfd1886",
   "metadata": {},
   "source": [
    "## 🔹 4. Nested `if` Statements"
   ]
  },
  {
   "cell_type": "code",
   "execution_count": 4,
   "id": "de6030b9",
   "metadata": {},
   "outputs": [
    {
     "name": "stdout",
     "output_type": "stream",
     "text": [
      "You can vote.\n"
     ]
    }
   ],
   "source": [
    "age = 20\n",
    "citizen = True\n",
    "\n",
    "if citizen:\n",
    "    if age >= 18:\n",
    "        print(\"You can vote.\")\n",
    "    else:\n",
    "        print(\"Too young to vote.\")\n",
    "else:\n",
    "    print(\"Only citizens can vote.\")"
   ]
  },
  {
   "cell_type": "markdown",
   "id": "84b9b07e",
   "metadata": {},
   "source": [
    "## 🔹 5. `match-case` Statement (Python 3.10+)"
   ]
  },
  {
   "cell_type": "code",
   "execution_count": 5,
   "id": "881e68a8",
   "metadata": {},
   "outputs": [
    {
     "name": "stdout",
     "output_type": "stream",
     "text": [
      "Option 2 selected\n"
     ]
    }
   ],
   "source": [
    "choice = 2\n",
    "\n",
    "match choice:\n",
    "    case 1:\n",
    "        print(\"Option 1 selected\")\n",
    "    case 2:\n",
    "        print(\"Option 2 selected\")\n",
    "    case 3:\n",
    "        print(\"Option 3 selected\")\n",
    "    case _:\n",
    "        print(\"Invalid option\")"
   ]
  },
  {
   "cell_type": "markdown",
   "id": "44b332b3",
   "metadata": {},
   "source": [
    "## 🎯 Effective Task: Menu-Driven Calculator using `match-case`"
   ]
  },
  {
   "cell_type": "code",
   "execution_count": 8,
   "id": "c169f251",
   "metadata": {},
   "outputs": [
    {
     "name": "stdout",
     "output_type": "stream",
     "text": [
      "1. Add\n",
      "2. Subtract\n",
      "3. Multiply\n",
      "4. Divide\n",
      "Result: 5.0\n"
     ]
    }
   ],
   "source": [
    "def calculator():\n",
    "    print(\"1. Add\")\n",
    "    print(\"2. Subtract\")\n",
    "    print(\"3. Multiply\")\n",
    "    print(\"4. Divide\")\n",
    "\n",
    "    choice = int(input(\"Enter choice (1-4): \"))\n",
    "    a = float(input(\"Enter first number: \"))\n",
    "    b = float(input(\"Enter second number: \"))\n",
    "\n",
    "    match choice:\n",
    "        case 1:\n",
    "            print(f\"Result: {a + b}\")\n",
    "        case 2:\n",
    "            print(f\"Result: {a - b}\")\n",
    "        case 3:\n",
    "            print(f\"Result: {a * b}\")\n",
    "        case 4:\n",
    "            if b != 0:\n",
    "                print(f\"Result: {a / b}\")\n",
    "            else:\n",
    "                print(\"Cannot divide by zero.\")\n",
    "        case _:\n",
    "            print(\"Invalid input!\")\n",
    "\n",
    "calculator()"
   ]
  }
 ],
 "metadata": {
  "kernelspec": {
   "display_name": ".venv (3.12.3)",
   "language": "python",
   "name": "python3"
  },
  "language_info": {
   "codemirror_mode": {
    "name": "ipython",
    "version": 3
   },
   "file_extension": ".py",
   "mimetype": "text/x-python",
   "name": "python",
   "nbconvert_exporter": "python",
   "pygments_lexer": "ipython3",
   "version": "3.12.3"
  }
 },
 "nbformat": 4,
 "nbformat_minor": 5
}
