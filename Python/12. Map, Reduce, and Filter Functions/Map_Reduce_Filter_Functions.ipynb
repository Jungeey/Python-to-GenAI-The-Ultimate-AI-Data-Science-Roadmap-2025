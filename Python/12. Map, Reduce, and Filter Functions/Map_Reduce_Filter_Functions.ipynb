{
 "cells": [
  {
   "cell_type": "markdown",
   "id": "6058d949",
   "metadata": {},
   "source": [
    "# Map, Reduce, and Filter Functions in Python"
   ]
  },
  {
   "cell_type": "markdown",
   "id": "33b8c285",
   "metadata": {},
   "source": [
    "\n",
    "These are built-in higher-order functions in Python that operate on sequences and other iterable collections.\n",
    "\n",
    "## 1. `map()` Function\n",
    "- Applies a given function to all the items in an input list (or any iterable).\n",
    "- Returns a map object (which is an iterator) that can be converted to list, tuple, etc.\n",
    "\n",
    "### Syntax:\n",
    "```python\n",
    "map(function, iterable)\n",
    "```\n"
   ]
  },
  {
   "cell_type": "code",
   "execution_count": 38,
   "id": "8592b855",
   "metadata": {},
   "outputs": [
    {
     "name": "stdout",
     "output_type": "stream",
     "text": [
      "[3.141592653589793, 12.566370614359172, 28.274333882308138, 50.26548245743669, 78.53981633974483]\n"
     ]
    }
   ],
   "source": [
    "import math\n",
    "\n",
    "def area(r):\n",
    "    return math.pi*(r**2)\n",
    "\n",
    "radii= [1,2,3,4,5]\n",
    "areas = []\n",
    "\n",
    "for r in radii:\n",
    "    a = area(r)\n",
    "    areas.append(a)\n",
    "    # print(f\"Area of {r} is: {a}\")\n",
    "\n",
    "print(areas)"
   ]
  },
  {
   "cell_type": "code",
   "execution_count": 39,
   "id": "1d284126",
   "metadata": {},
   "outputs": [
    {
     "name": "stdout",
     "output_type": "stream",
     "text": [
      "[3.141592653589793, 12.566370614359172, 28.274333882308138, 50.26548245743669, 78.53981633974483]\n"
     ]
    }
   ],
   "source": [
    "areas_map= map(area, radii)\n",
    "print(list(areas_map))"
   ]
  },
  {
   "cell_type": "code",
   "execution_count": 40,
   "id": "7d52133c",
   "metadata": {},
   "outputs": [
    {
     "name": "stdout",
     "output_type": "stream",
     "text": [
      "Squared Numbers: [1, 4, 9, 16, 25]\n"
     ]
    }
   ],
   "source": [
    "def square(n):\n",
    "    return n * n\n",
    "\n",
    "numbers = [1, 2, 3, 4, 5]\n",
    "squared_numbers = list(map(square, numbers))\n",
    "print(\"Squared Numbers:\", squared_numbers)"
   ]
  },
  {
   "cell_type": "code",
   "execution_count": 41,
   "id": "e6c365ad",
   "metadata": {},
   "outputs": [
    {
     "name": "stdout",
     "output_type": "stream",
     "text": [
      "[10, 18, 18]\n"
     ]
    }
   ],
   "source": [
    "size = [(2, 5), (3, 6), (2, 9)]\n",
    "\n",
    "area_rectangle = list(map(lambda x: x[0] * x[1], size))\n",
    "\n",
    "print(area_rectangle)"
   ]
  },
  {
   "cell_type": "markdown",
   "id": "2b22f48d",
   "metadata": {},
   "source": [
    "\n",
    "## 2. `reduce()` Function\n",
    "- Performs a rolling computation to sequential pairs of values in a list.\n",
    "- To use `reduce`, you need to import it from `functools`.\n",
    "\n",
    "### Syntax:\n",
    "```python\n",
    "from functools import reduce\n",
    "reduce(function, iterable)\n",
    "```\n"
   ]
  },
  {
   "cell_type": "code",
   "execution_count": null,
   "id": "faee9741",
   "metadata": {},
   "outputs": [
    {
     "name": "stdout",
     "output_type": "stream",
     "text": [
      "Product of numbers: 24\n"
     ]
    }
   ],
   "source": [
    "\n",
    "from functools import reduce\n",
    "\n",
    "def multiply(x, y):\n",
    "    return x * y\n",
    "\n",
    "numbers = [1, 2, 3, 4]\n"
   ]
  },
  {
   "cell_type": "code",
   "execution_count": 52,
   "id": "64f6b2be",
   "metadata": {},
   "outputs": [
    {
     "name": "stdout",
     "output_type": "stream",
     "text": [
      "Product of numbers: 24\n"
     ]
    }
   ],
   "source": [
    "product = reduce(multiply, numbers)\n",
    "print(\"Product of numbers:\", product)"
   ]
  },
  {
   "cell_type": "code",
   "execution_count": 53,
   "id": "3805d299",
   "metadata": {},
   "outputs": [
    {
     "name": "stdout",
     "output_type": "stream",
     "text": [
      "Product of numbers: 24\n"
     ]
    }
   ],
   "source": [
    "product = reduce(lambda x,y: x*y, numbers)\n",
    "print(\"Product of numbers:\", product)"
   ]
  },
  {
   "cell_type": "markdown",
   "id": "e7b5b261",
   "metadata": {},
   "source": [
    "\n",
    "## 3. `filter()` Function\n",
    "- Filters elements from a list for which the function returns True.\n",
    "\n",
    "### Syntax:\n",
    "```python\n",
    "filter(function, iterable)\n",
    "```\n",
    "\n"
   ]
  },
  {
   "cell_type": "code",
   "execution_count": null,
   "id": "e9745da4",
   "metadata": {},
   "outputs": [
    {
     "name": "stdout",
     "output_type": "stream",
     "text": [
      "Even Numbers: [2, 4, 6]\n"
     ]
    }
   ],
   "source": [
    "def is_even(n):\n",
    "    return n % 2 == 0\n",
    "\n",
    "numbers = [1, 2, 3, 4, 5, 6]"
   ]
  },
  {
   "cell_type": "code",
   "execution_count": 49,
   "id": "7102f77f",
   "metadata": {},
   "outputs": [
    {
     "name": "stdout",
     "output_type": "stream",
     "text": [
      "Even Numbers: [2, 4, 6]\n"
     ]
    }
   ],
   "source": [
    "even_numbers = list(filter(is_even, numbers))\n",
    "print(\"Even Numbers:\", even_numbers)"
   ]
  },
  {
   "cell_type": "code",
   "execution_count": 44,
   "id": "622d8a49",
   "metadata": {},
   "outputs": [
    {
     "name": "stdout",
     "output_type": "stream",
     "text": [
      "Even Numbers: [2, 4, 6]\n"
     ]
    }
   ],
   "source": [
    "even_numbers = list(filter(lambda x:x%2==0 , numbers))\n",
    "print(\"Even Numbers:\", even_numbers)"
   ]
  },
  {
   "cell_type": "markdown",
   "id": "a070ec7b",
   "metadata": {},
   "source": [
    "### Filtering Null"
   ]
  },
  {
   "cell_type": "code",
   "execution_count": 58,
   "id": "5abfe102",
   "metadata": {},
   "outputs": [
    {
     "name": "stdout",
     "output_type": "stream",
     "text": [
      "['Python', 'JavaScript', 1, 'Java']\n"
     ]
    }
   ],
   "source": [
    "name = [\"Python\",\"JavaScript\",\"\",0,0.0,1,\"Java\"]\n",
    "filtered_name = list(filter(None, name))\n",
    "print(filtered_name)"
   ]
  },
  {
   "cell_type": "markdown",
   "id": "d558d520",
   "metadata": {},
   "source": [
    "\n",
    "## 🧠 Practical Task: Data Analysis Helper\n",
    "\n",
    "### Task Description:\n",
    "You are given a list of daily temperatures in Celsius. Use `map`, `filter`, and `reduce` to:\n",
    "\n",
    "1. Convert the temperatures to Fahrenheit.\n",
    "\n",
    "2. Filter out the days with temperatures above 100°F.\n",
    "\n",
    "3. Calculate the average Fahrenheit temperature using reduce.\n",
    "\n",
    "### Temperature List (Celsius):\n",
    "```python\n",
    "temps_celsius = [22, 28, 33, 35, 31, 29, 27]\n",
    "```\n"
   ]
  },
  {
   "cell_type": "code",
   "execution_count": 45,
   "id": "8514227c",
   "metadata": {},
   "outputs": [],
   "source": [
    "\n",
    "from functools import reduce\n",
    "\n",
    "temps_celsius = [22, 28, 33, 35, 31, 29, 27]"
   ]
  },
  {
   "cell_type": "code",
   "execution_count": 46,
   "id": "d3e2d1ad",
   "metadata": {},
   "outputs": [
    {
     "name": "stdout",
     "output_type": "stream",
     "text": [
      "Temperatures in Fahrenheit: [71.6, 82.4, 91.4, 95.0, 87.8, 84.2, 80.6]\n"
     ]
    }
   ],
   "source": [
    "# 1. Convert to Fahrenheit\n",
    "temps_fahrenheit = list(map(lambda c: c * 9/5 + 32, temps_celsius))\n",
    "print(\"Temperatures in Fahrenheit:\", temps_fahrenheit)"
   ]
  },
  {
   "cell_type": "code",
   "execution_count": 47,
   "id": "d5b7bd0c",
   "metadata": {},
   "outputs": [
    {
     "name": "stdout",
     "output_type": "stream",
     "text": [
      "Hot Days (Above 100°F): []\n"
     ]
    }
   ],
   "source": [
    "# 2. Filter days above 100°F\n",
    "hot_days = list(filter(lambda f: f > 100, temps_fahrenheit))\n",
    "print(\"Hot Days (Above 100°F):\", hot_days)"
   ]
  },
  {
   "cell_type": "code",
   "execution_count": 48,
   "id": "2f6f2b01",
   "metadata": {},
   "outputs": [
    {
     "name": "stdout",
     "output_type": "stream",
     "text": [
      "Average Fahrenheit Temperature: 84.71\n"
     ]
    }
   ],
   "source": [
    "# 3. Average temperature in Fahrenheit\n",
    "avg_temp = reduce(lambda x, y: x + y, temps_fahrenheit) / len(temps_fahrenheit)\n",
    "print(\"Average Fahrenheit Temperature:\", round(avg_temp, 2))"
   ]
  }
 ],
 "metadata": {
  "kernelspec": {
   "display_name": ".venv (3.12.3)",
   "language": "python",
   "name": "python3"
  },
  "language_info": {
   "codemirror_mode": {
    "name": "ipython",
    "version": 3
   },
   "file_extension": ".py",
   "mimetype": "text/x-python",
   "name": "python",
   "nbconvert_exporter": "python",
   "pygments_lexer": "ipython3",
   "version": "3.12.3"
  }
 },
 "nbformat": 4,
 "nbformat_minor": 5
}
