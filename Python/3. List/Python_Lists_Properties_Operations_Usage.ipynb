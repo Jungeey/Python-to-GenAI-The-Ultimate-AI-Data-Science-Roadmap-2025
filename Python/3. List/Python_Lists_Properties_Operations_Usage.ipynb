{
 "cells": [
  {
   "cell_type": "markdown",
   "id": "a9d18caa",
   "metadata": {},
   "source": [
    "# 📝 Lists in Python: Properties, Operations, and Practical Usage\n",
    "This notebook explains Python lists in detail: their properties, operations, and practical use cases.\n",
    "\n",
    "---"
   ]
  },
  {
   "cell_type": "markdown",
   "id": "751560f3",
   "metadata": {},
   "source": [
    "## 📘 What is a List?\n",
    "A **list** is a built-in Python data structure that stores a collection of items in a specific order.\n",
    "\n",
    "**Key Properties:**\n",
    "- Ordered\n",
    "- Mutable (can be changed)\n",
    "- Can contain elements of different data types\n",
    "- Allows duplicates"
   ]
  },
  {
   "cell_type": "markdown",
   "id": "10f64ad3",
   "metadata": {},
   "source": [
    "## 🛠️ Creating a List"
   ]
  },
  {
   "cell_type": "code",
   "execution_count": 1,
   "id": "bd8466e0",
   "metadata": {},
   "outputs": [
    {
     "name": "stdout",
     "output_type": "stream",
     "text": [
      "Integer List: [1, 2, 3, 4, 5]\n",
      "Mixed List: [1, 'hello', 3.5, True]\n"
     ]
    }
   ],
   "source": [
    "my_list = [1, 2, 3, 4, 5]\n",
    "mixed_list = [1, \"hello\", 3.5, True]\n",
    "\n",
    "print(\"Integer List:\", my_list)\n",
    "print(\"Mixed List:\", mixed_list)"
   ]
  },
  {
   "cell_type": "markdown",
   "id": "9d17d29f",
   "metadata": {},
   "source": [
    "## 🔍 Accessing List Elements"
   ]
  },
  {
   "cell_type": "code",
   "execution_count": null,
   "id": "2fcc9419",
   "metadata": {},
   "outputs": [
    {
     "name": "stdout",
     "output_type": "stream",
     "text": [
      "First Element: 1\n",
      "Last Element: 5\n",
      "Slice [1:4]: [2, 99, 4]\n",
      "Slice [1:4]: [2, 99, 4]\n"
     ]
    }
   ],
   "source": [
    "# Data:     1   2   3   4   5\n",
    "# Index:    0   1   2   3   4\n",
    "# Index:    -5  -4  -3  -2  -1\n",
    "\n",
    "print(\"First Element:\", my_list[0])\n",
    "print(\"Last Element:\", my_list[-1])\n",
    "print(\"Slice [1:4]:\", my_list[1:4])\n",
    "print(\"Slice [-4:-1]:\", my_list[-4:-1])\n"
   ]
  },
  {
   "cell_type": "markdown",
   "id": "572bd091",
   "metadata": {},
   "source": [
    "## ✏️ Modifying List Elements"
   ]
  },
  {
   "cell_type": "code",
   "execution_count": 29,
   "id": "9b83112e",
   "metadata": {},
   "outputs": [
    {
     "name": "stdout",
     "output_type": "stream",
     "text": [
      "Modified List: [1, 2, 99, 4, 5]\n"
     ]
    }
   ],
   "source": [
    "my_list[2] = 99\n",
    "print(\"Modified List:\", my_list)"
   ]
  },
  {
   "cell_type": "markdown",
   "id": "bbcc081e",
   "metadata": {},
   "source": [
    "## ⚙️ Common List Methods"
   ]
  },
  {
   "cell_type": "code",
   "execution_count": null,
   "id": "8aaf6f5f",
   "metadata": {},
   "outputs": [
    {
     "name": "stdout",
     "output_type": "stream",
     "text": [
      "Original Numbers: [1, 2, 3]\n",
      "Appended Numbers: [1, 2, 3, 4]\n",
      "Inserted Numbers: [1, 10, 2, 3, 4]\n",
      "Removed Numbers: [1, 10, 3, 4]\n",
      "Poped Numbers: [1, 10, 3]\n",
      "Reversed Numbers: [3, 10, 1]\n",
      "Sort List: [1, 3, 10]\n",
      "Sort List: [1, 3, 10]\n",
      "Popped Element: 4\n"
     ]
    }
   ],
   "source": [
    "numbers = [1, 2, 3]\n",
    "print(\"Original Numbers:\", numbers)\n",
    "\n",
    "numbers.append(4)\n",
    "print(\"Appended Numbers:\", numbers)\n",
    "\n",
    "numbers.insert(1, 10)\n",
    "print(\"Inserted Numbers:\", numbers)\n",
    "\n",
    "numbers.remove(2)\n",
    "print(\"Removed Numbers:\", numbers)\n",
    "\n",
    "last = numbers.pop()\n",
    "print(\"Poped Numbers:\", numbers)\n",
    "\n",
    "numbers.reverse()\n",
    "print(\"Reversed Numbers:\", numbers)\n",
    "\n",
    "# sorted_numbers = numbers.sort() // Doesnot Assign the value using .sort()\n",
    "\n",
    "sorted_numbers = sorted(numbers)\n",
    "print(\"Sorted List:\", sorted_numbers)\n",
    "\n",
    "numbers.sort()\n",
    "print(\"Sorted List:\", numbers)\n",
    "\n",
    "print(\"Popped Element:\", last)"
   ]
  },
  {
   "cell_type": "markdown",
   "id": "aeee2b80",
   "metadata": {},
   "source": [
    "## 🔄 Other Useful Operations"
   ]
  },
  {
   "cell_type": "code",
   "execution_count": 5,
   "id": "07d5b1a9",
   "metadata": {},
   "outputs": [
    {
     "name": "stdout",
     "output_type": "stream",
     "text": [
      "Concatenated: [1, 2, 3, 4, 5, 6]\n",
      "Repeated: [1, 2, 3, 1, 2, 3]\n"
     ]
    }
   ],
   "source": [
    "a = [1, 2, 3]\n",
    "b = [4, 5, 6]\n",
    "c = a + b\n",
    "repeated = a * 2\n",
    "\n",
    "print(\"Concatenated:\", c)\n",
    "print(\"Repeated:\", repeated)"
   ]
  },
  {
   "cell_type": "markdown",
   "id": "94ca56fb",
   "metadata": {},
   "source": [
    "## 🔁 Iterating through a List"
   ]
  },
  {
   "cell_type": "code",
   "execution_count": 6,
   "id": "560ce7ff",
   "metadata": {},
   "outputs": [
    {
     "name": "stdout",
     "output_type": "stream",
     "text": [
      "Item: 1\n",
      "Item: hello\n",
      "Item: 3.5\n",
      "Item: True\n"
     ]
    }
   ],
   "source": [
    "for item in mixed_list:\n",
    "    print(\"Item:\", item)"
   ]
  },
  {
   "cell_type": "markdown",
   "id": "29ad0fef",
   "metadata": {},
   "source": [
    "## ⚡ List Comprehensions"
   ]
  },
  {
   "cell_type": "code",
   "execution_count": 7,
   "id": "332420a6",
   "metadata": {},
   "outputs": [
    {
     "name": "stdout",
     "output_type": "stream",
     "text": [
      "Squares: [0, 1, 4, 9, 16, 25]\n",
      "Even Numbers: [0, 2, 4, 6, 8]\n"
     ]
    }
   ],
   "source": [
    "squares = [x**2 for x in range(6)]\n",
    "even = [x for x in range(10) if x % 2 == 0]\n",
    "\n",
    "print(\"Squares:\", squares)\n",
    "print(\"Even Numbers:\", even)"
   ]
  },
  {
   "cell_type": "markdown",
   "id": "e341459f",
   "metadata": {},
   "source": [
    "## 🧱 Nested Lists"
   ]
  },
  {
   "cell_type": "code",
   "execution_count": 8,
   "id": "ece5c633",
   "metadata": {},
   "outputs": [
    {
     "name": "stdout",
     "output_type": "stream",
     "text": [
      "Matrix: [[1, 2], [3, 4], [5, 6]]\n",
      "Element [1][0]: 3\n"
     ]
    }
   ],
   "source": [
    "matrix = [[1, 2], [3, 4], [5, 6]]\n",
    "print(\"Matrix:\", matrix)\n",
    "print(\"Element [1][0]:\", matrix[1][0])"
   ]
  },
  {
   "cell_type": "markdown",
   "id": "d20f608f",
   "metadata": {},
   "source": [
    "## 🔍 Membership & Length"
   ]
  },
  {
   "cell_type": "code",
   "execution_count": 9,
   "id": "84296cef",
   "metadata": {},
   "outputs": [
    {
     "name": "stdout",
     "output_type": "stream",
     "text": [
      "2 in my_list: True\n",
      "Length of my_list: 5\n"
     ]
    }
   ],
   "source": [
    "print(\"2 in my_list:\", 2 in my_list)\n",
    "print(\"Length of my_list:\", len(my_list))"
   ]
  },
  {
   "cell_type": "markdown",
   "id": "d8084847",
   "metadata": {},
   "source": [
    "## 📋 Copying Lists"
   ]
  },
  {
   "cell_type": "code",
   "execution_count": null,
   "id": "59ca0635",
   "metadata": {},
   "outputs": [
    {
     "name": "stdout",
     "output_type": "stream",
     "text": [
      "Original: [99, 2, 3]\n",
      "Copy: [99, 2, 3]\n",
      "Shallow Copy: [1, 2, 3]\n"
     ]
    }
   ],
   "source": [
    "original = [1, 2, 3]\n",
    "copy = original # Change in original changes here too\n",
    "shallow_copy = original[:] # Change in original doesnot effect this\n",
    "original[0] = 99\n",
    "\n",
    "print(\"Original:\", original)\n",
    "print(\"Copy:\", copy)\n",
    "print(\"Shallow Copy:\", shallow_copy)"
   ]
  },
  {
   "cell_type": "markdown",
   "id": "a5da0117",
   "metadata": {},
   "source": [
    "## 🛠️ Practical Usage Example\n",
    "Let's collect user inputs and calculate the average of numbers."
   ]
  },
  {
   "cell_type": "code",
   "execution_count": 12,
   "id": "b5390416",
   "metadata": {},
   "outputs": [
    {
     "name": "stdout",
     "output_type": "stream",
     "text": [
      "Entered numbers: [35, 23, 54, 2, 3]\n",
      "Average: 23.4\n"
     ]
    }
   ],
   "source": [
    "numbers = []\n",
    "for i in range(5):\n",
    "    numbers.append(int(input(f\"Enter number {i+1}: \")))\n",
    "\n",
    "average = sum(numbers) / len(numbers)\n",
    "print(\"Entered numbers:\", numbers)\n",
    "print(\"Average:\", average)"
   ]
  },
  {
   "cell_type": "markdown",
   "id": "f3cced5c",
   "metadata": {},
   "source": [
    "## ✅ Summary\n",
    "- Lists are ordered, mutable collections.\n",
    "- Use indexing, slicing, and built-in methods to manipulate lists.\n",
    "- List comprehensions and nested lists are powerful tools.\n",
    "- They are widely used in data handling and algorithms."
   ]
  },
  {
   "cell_type": "markdown",
   "id": "617bbaef",
   "metadata": {},
   "source": [
    "## Comprehensive List Manipulation Task: \"Book Collection Manager\"\n",
    "\n",
    "### Task Description:\n",
    "You are building a simple Book Collection Manager that helps keep track of your books and some of their details.\n",
    "\n",
    "**Instructions:**\n",
    "1. Create a list called books where each book is represented as a nested list containing:\n",
    "    - Title (string)\n",
    "    - Author (string)\n",
    "    - Year of Publication (integer)\n",
    "    - Rating (float from 0 to 5)\n",
    "\n",
    "2. Add at least 5 different books with realistic data to your books list.\n",
    "\n",
    "3. Print the list of all book titles only.\n",
    "\n",
    "4. Update the rating of the 3rd book in the list to 4.8.\n",
    "\n",
    "5. Add a new book to the collection using the append() method.\n",
    "\n",
    "6. Remove the book that was published the earliest (lowest year).\n",
    "\n",
    "7. Sort the books list by rating in descending order.\n",
    "\n",
    "8. Using a list comprehension, create a list called highly_rated_titles containing titles of books with rating above 4.5.\n",
    "\n",
    "9. Print the following summary:\n",
    "    - Total number of books\n",
    "    - Titles of highly rated books\n",
    "    - Average rating of all books (rounded to 2 decimals)"
   ]
  },
  {
   "cell_type": "code",
   "execution_count": 44,
   "id": "4aa937b0",
   "metadata": {},
   "outputs": [],
   "source": [
    "# Step 1 & 2: Create the list with 5 books\n",
    "books = [\n",
    "    [\"The Alchemist\", \"Paulo Coelho\", 1988, 4.2],\n",
    "    [\"1984\", \"George Orwell\", 1949, 4.6],\n",
    "    [\"Sapiens\", \"Yuval Noah Harari\", 2011, 4.7],\n",
    "    [\"To Kill a Mockingbird\", \"Harper Lee\", 1960, 4.8],\n",
    "    [\"The Great Gatsby\", \"F. Scott Fitzgerald\", 1925, 4.3]\n",
    "]"
   ]
  },
  {
   "cell_type": "code",
   "execution_count": 45,
   "id": "7c0d62c3",
   "metadata": {},
   "outputs": [
    {
     "name": "stdout",
     "output_type": "stream",
     "text": [
      "Book Titles: ['The Alchemist', '1984', 'Sapiens', 'To Kill a Mockingbird', 'The Great Gatsby']\n"
     ]
    }
   ],
   "source": [
    "# Step 3: Print all book titles\n",
    "titles = [book[0] for book in books]\n",
    "print(\"Book Titles:\", titles)"
   ]
  },
  {
   "cell_type": "code",
   "execution_count": 46,
   "id": "29ada9e5",
   "metadata": {},
   "outputs": [],
   "source": [
    "# Step 4: Update the rating of the 3rd book to 4.8\n",
    "books[2][3] = 4.8"
   ]
  },
  {
   "cell_type": "code",
   "execution_count": 47,
   "id": "0e6810d7",
   "metadata": {},
   "outputs": [],
   "source": [
    "# Step 5: Add a new book using append()\n",
    "books.append([\"Pride and Prejudice\", \"Jane Austen\", 1813, 4.5])"
   ]
  },
  {
   "cell_type": "code",
   "execution_count": 48,
   "id": "f1a57aa0",
   "metadata": {},
   "outputs": [
    {
     "name": "stdout",
     "output_type": "stream",
     "text": [
      "Removed earliest published book: Pride and Prejudice\n"
     ]
    }
   ],
   "source": [
    "# Step 6: Remove the earliest published book (lowest year)\n",
    "earliest_year = min(book[2] for book in books)\n",
    "for i, book in enumerate(books):\n",
    "    if book[2] == earliest_year:\n",
    "        removed_book = books.pop(i)\n",
    "        break\n",
    "print(f\"Removed earliest published book: {removed_book[0]}\")"
   ]
  },
  {
   "cell_type": "code",
   "execution_count": 49,
   "id": "1fa2c0ee",
   "metadata": {},
   "outputs": [
    {
     "name": "stdout",
     "output_type": "stream",
     "text": [
      "Books sorted by rating (desc):\n",
      "['Sapiens', 'Yuval Noah Harari', 2011, 4.8]\n",
      "['To Kill a Mockingbird', 'Harper Lee', 1960, 4.8]\n",
      "['1984', 'George Orwell', 1949, 4.6]\n",
      "['The Great Gatsby', 'F. Scott Fitzgerald', 1925, 4.3]\n",
      "['The Alchemist', 'Paulo Coelho', 1988, 4.2]\n"
     ]
    }
   ],
   "source": [
    "# Step 7: Sort books by rating in descending order\n",
    "books.sort(key=lambda x: x[3], reverse=True)\n",
    "print(\"Books sorted by rating (desc):\")\n",
    "for b in books:\n",
    "    print(b)"
   ]
  },
  {
   "cell_type": "code",
   "execution_count": 50,
   "id": "3c8a62eb",
   "metadata": {},
   "outputs": [],
   "source": [
    "# Step 8: List comprehension to get highly rated books (>4.5)\n",
    "highly_rated_titles = [book[0] for book in books if book[3] > 4.5]"
   ]
  },
  {
   "cell_type": "code",
   "execution_count": 51,
   "id": "bf47c931",
   "metadata": {},
   "outputs": [
    {
     "name": "stdout",
     "output_type": "stream",
     "text": [
      "Highly rated books (rating > 4.5): ['Sapiens', 'To Kill a Mockingbird', '1984']\n",
      "Total books: 5\n",
      "Average rating: 4.54\n"
     ]
    }
   ],
   "source": [
    "# Step 9: Print summary\n",
    "total_books = len(books)\n",
    "average_rating = round(sum(book[3] for book in books) / total_books, 2)\n",
    "\n",
    "print(f\"Highly rated books (rating > 4.5): {highly_rated_titles}\")\n",
    "print(f\"Total books: {total_books}\")\n",
    "print(f\"Average rating: {average_rating}\")\n"
   ]
  }
 ],
 "metadata": {
  "kernelspec": {
   "display_name": ".venv (3.12.3)",
   "language": "python",
   "name": "python3"
  },
  "language_info": {
   "codemirror_mode": {
    "name": "ipython",
    "version": 3
   },
   "file_extension": ".py",
   "mimetype": "text/x-python",
   "name": "python",
   "nbconvert_exporter": "python",
   "pygments_lexer": "ipython3",
   "version": "3.12.3"
  }
 },
 "nbformat": 4,
 "nbformat_minor": 5
}
