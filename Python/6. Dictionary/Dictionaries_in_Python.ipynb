{
 "cells": [
  {
   "cell_type": "markdown",
   "metadata": {},
   "source": [
    "# 🗂️ Dictionaries in Python: A Complete Guide\n",
    "\n",
    "Dictionaries in Python are **unordered collections** of data that store **key-value pairs**. They are **mutable**, meaning their contents can be changed after creation.\n",
    "\n",
    "---"
   ]
  },
  {
   "cell_type": "markdown",
   "metadata": {},
   "source": [
    "## 🔑 Properties of Dictionaries\n",
    "- Unordered (as of Python 3.6+, they preserve insertion order)\n",
    "- Keys are **unique** and **immutable** (e.g., strings, numbers, tuples)\n",
    "- Values can be of any type\n",
    "- Defined using `{}` or `dict()` constructor"
   ]
  },
  {
   "cell_type": "code",
   "execution_count": 13,
   "metadata": {},
   "outputs": [
    {
     "name": "stdout",
     "output_type": "stream",
     "text": [
      "{'name': 'Aarav', 'age': 21, 'is_graduated': False}\n"
     ]
    }
   ],
   "source": [
    "# Creating a dictionary\n",
    "student = {\n",
    "    \"name\": \"Aarav\",\n",
    "    \"age\": 21,\n",
    "    \"is_graduated\": False\n",
    "}\n",
    "\n",
    "print(student)"
   ]
  },
  {
   "cell_type": "markdown",
   "metadata": {},
   "source": [
    "## 📘 Accessing Values"
   ]
  },
  {
   "cell_type": "code",
   "execution_count": 14,
   "metadata": {},
   "outputs": [
    {
     "name": "stdout",
     "output_type": "stream",
     "text": [
      "Aarav\n",
      "21\n"
     ]
    }
   ],
   "source": [
    "print(student[\"name\"])\n",
    "print(student.get(\"age\"))  # Safe access"
   ]
  },
  {
   "cell_type": "markdown",
   "metadata": {},
   "source": [
    "## ✏️ Modifying and Adding Items"
   ]
  },
  {
   "cell_type": "code",
   "execution_count": 15,
   "metadata": {},
   "outputs": [
    {
     "name": "stdout",
     "output_type": "stream",
     "text": [
      "{'name': 'Aarav', 'age': 22, 'is_graduated': False, 'major': 'Computer Science'}\n"
     ]
    }
   ],
   "source": [
    "student[\"age\"] = 22  # Modify\n",
    "student[\"major\"] = \"Computer Science\"  # Add\n",
    "print(student)"
   ]
  },
  {
   "cell_type": "markdown",
   "metadata": {},
   "source": [
    "## ❌ Removing Items"
   ]
  },
  {
   "cell_type": "code",
   "execution_count": 16,
   "metadata": {},
   "outputs": [
    {
     "name": "stdout",
     "output_type": "stream",
     "text": [
      "Computer Science\n",
      "{'name': 'Aarav', 'age': 22}\n"
     ]
    }
   ],
   "source": [
    "del student[\"is_graduated\"]\n",
    "removed_value = student.pop(\"major\")\n",
    "print(removed_value)\n",
    "print(student)"
   ]
  },
  {
   "cell_type": "markdown",
   "metadata": {},
   "source": [
    "## 🔄 Dictionary Methods\n",
    "- `.keys()`\n",
    "- `.values()`\n",
    "- `.items()`\n",
    "- `.update()`\n",
    "- `.pop()`, `.popitem()`\n",
    "- `.clear()`"
   ]
  },
  {
   "cell_type": "code",
   "execution_count": 17,
   "metadata": {},
   "outputs": [
    {
     "name": "stdout",
     "output_type": "stream",
     "text": [
      "city: Kathmandu\n",
      "country: Nepal\n"
     ]
    }
   ],
   "source": [
    "info = {\"city\": \"Kathmandu\", \"country\": \"Nepal\"}\n",
    "\n",
    "for key, value in info.items():\n",
    "    print(f\"{key}: {value}\")"
   ]
  },
  {
   "cell_type": "markdown",
   "metadata": {},
   "source": [
    "## 🧠 Nested Dictionaries"
   ]
  },
  {
   "cell_type": "code",
   "execution_count": 18,
   "metadata": {},
   "outputs": [
    {
     "name": "stdout",
     "output_type": "stream",
     "text": [
      "Frontend\n"
     ]
    }
   ],
   "source": [
    "team = {\n",
    "    \"dev\": {\"name\": \"Riya\", \"role\": \"Frontend\"},\n",
    "    \"ops\": {\"name\": \"Sohan\", \"role\": \"Backend\"}\n",
    "}\n",
    "print(team[\"dev\"][\"role\"])"
   ]
  },
  {
   "cell_type": "markdown",
   "metadata": {},
   "source": [
    "---\n",
    "# ✅ TASK: Student Grades Dashboard\n",
    "\n",
    "### 🎯 Objective:\n",
    "You are managing a small gradebook system. Perform a series of dictionary operations to simulate a basic student report manager.\n",
    "\n",
    "### Instructions:\n",
    "1. Create a dictionary named `grades` where each key is a student's name and the value is their list of grades (floats).\n",
    "\n",
    "2. Add at least 4 students with 3 grades each.\n",
    "\n",
    "3. Print the average grade for each student.\n",
    "\n",
    "4. Add a new grade for a student.\n",
    "\n",
    "5. Remove a student with the lowest average grade.\n",
    "\n",
    "6. Sort students based on their average grades (descending).\n",
    "\n",
    "7. Print a summary:\n",
    "   - Total students\n",
    "   - Student with highest average\n",
    "   - All student names sorted alphabetically"
   ]
  },
  {
   "cell_type": "code",
   "execution_count": 19,
   "id": "f97fce5e",
   "metadata": {},
   "outputs": [],
   "source": [
    "# Creating a Dictonary\n",
    "grades = {\n",
    "    \"Aarav\": [85.0, 78.5, 92.0],\n",
    "    \"Maya\": [90.5, 88.0, 91.0],\n",
    "    \"Ishan\": [70.0, 75.5, 68.0],\n",
    "    \"Sita\": [95.0, 89.5, 94.0]\n",
    "}"
   ]
  },
  {
   "cell_type": "code",
   "execution_count": 20,
   "id": "737b5503",
   "metadata": {},
   "outputs": [
    {
     "name": "stdout",
     "output_type": "stream",
     "text": [
      "Aarav's average: 85.17\n",
      "Maya's average: 89.83\n",
      "Ishan's average: 71.17\n",
      "Sita's average: 92.83\n"
     ]
    }
   ],
   "source": [
    "# 3. Average per student\n",
    "for student, scores in grades.items():\n",
    "    avg = round(sum(scores)/len(scores), 2)\n",
    "    print(f\"{student}'s average: {avg}\")"
   ]
  },
  {
   "cell_type": "code",
   "execution_count": 21,
   "id": "a5203e0e",
   "metadata": {},
   "outputs": [],
   "source": [
    "# 4. Add new grade\n",
    "grades[\"Maya\"].append(93.0)"
   ]
  },
  {
   "cell_type": "code",
   "execution_count": 22,
   "id": "2ad7023c",
   "metadata": {},
   "outputs": [
    {
     "data": {
      "text/plain": [
       "[70.0, 75.5, 68.0]"
      ]
     },
     "execution_count": 22,
     "metadata": {},
     "output_type": "execute_result"
    }
   ],
   "source": [
    "# 5. Remove student with lowest average\n",
    "lowest = min(grades, key=lambda s: sum(grades[s])/len(grades[s]))\n",
    "grades.pop(lowest)"
   ]
  },
  {
   "cell_type": "code",
   "execution_count": 23,
   "id": "379ebda8",
   "metadata": {},
   "outputs": [],
   "source": [
    "# 6. Sort by average grade\n",
    "sorted_grades = sorted(grades.items(), key=lambda x: sum(x[1])/len(x[1]), reverse=True)"
   ]
  },
  {
   "cell_type": "code",
   "execution_count": 24,
   "metadata": {},
   "outputs": [
    {
     "name": "stdout",
     "output_type": "stream",
     "text": [
      "\n",
      "--- Summary ---\n",
      "Total students: 3\n",
      "Top Student: Sita\n",
      "Students A-Z: ['Aarav', 'Maya', 'Sita']\n"
     ]
    }
   ],
   "source": [
    "# 7. Summary\n",
    "print(\"\\n--- Summary ---\")\n",
    "print(\"Total students:\", len(grades))\n",
    "print(\"Top Student:\", sorted_grades[0][0])\n",
    "print(\"Students A-Z:\", sorted(grades.keys()))"
   ]
  }
 ],
 "metadata": {
  "kernelspec": {
   "display_name": ".venv (3.12.3)",
   "language": "python",
   "name": "python3"
  },
  "language_info": {
   "codemirror_mode": {
    "name": "ipython",
    "version": 3
   },
   "file_extension": ".py",
   "mimetype": "text/x-python",
   "name": "python",
   "nbconvert_exporter": "python",
   "pygments_lexer": "ipython3",
   "version": "3.12.3"
  }
 },
 "nbformat": 4,
 "nbformat_minor": 5
}
